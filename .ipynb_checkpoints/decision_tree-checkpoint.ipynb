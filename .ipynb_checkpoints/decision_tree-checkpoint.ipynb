{
 "cells": [
  {
   "cell_type": "markdown",
   "metadata": {},
   "source": [
    "Playing with decision trees"
   ]
  },
  {
   "cell_type": "code",
   "execution_count": 1,
   "metadata": {
    "collapsed": true
   },
   "outputs": [],
   "source": [
    "from sklearn.model_selection import train_test_split\n",
    "from sklearn.tree import DecisionTreeClassifier\n",
    "from sklearn import datasets\n",
    "from sklearn.metrics import classification_report, confusion_matrix\n",
    "from sklearn.metrics import classification_report\n",
    "from sklearn.model_selection import GridSearchCV"
   ]
  },
  {
   "cell_type": "code",
   "execution_count": 7,
   "metadata": {
    "collapsed": true
   },
   "outputs": [],
   "source": [
    "digits = datasets.load_digits()\n",
    "\n",
    "n_samples = len(digits.images)\n",
    "data = digits.images.reshape((n_samples, -1))\n",
    "\n",
    "X_train, X_test, y_train, y_test = train_test_split(digits.images, digits.target, \\\n",
    "                                                    test_size=.4, random_state=0)\n",
    "X_train = X_train.reshape(X_train.shape[0],64)\n",
    "X_test = X_test.reshape(X_test.shape[0],64)"
   ]
  },
  {
   "cell_type": "code",
   "execution_count": 8,
   "metadata": {
    "collapsed": false
   },
   "outputs": [
    {
     "data": {
      "text/plain": [
       "DecisionTreeClassifier(class_weight=None, criterion='gini', max_depth=None,\n",
       "            max_features=None, max_leaf_nodes=None,\n",
       "            min_impurity_split=1e-07, min_samples_leaf=1,\n",
       "            min_samples_split=2, min_weight_fraction_leaf=0.0,\n",
       "            presort=False, random_state=None, splitter='best')"
      ]
     },
     "execution_count": 8,
     "metadata": {},
     "output_type": "execute_result"
    }
   ],
   "source": [
    "clf = DecisionTreeClassifier()\n",
    "clf.fit(X_train, y_train)"
   ]
  },
  {
   "cell_type": "code",
   "execution_count": 10,
   "metadata": {
    "collapsed": false
   },
   "outputs": [
    {
     "name": "stdout",
     "output_type": "stream",
     "text": [
      "Classification report for classifier DecisionTreeClassifier(class_weight=None, criterion='gini', max_depth=None,\n",
      "            max_features=None, max_leaf_nodes=None,\n",
      "            min_impurity_split=1e-07, min_samples_leaf=1,\n",
      "            min_samples_split=2, min_weight_fraction_leaf=0.0,\n",
      "            presort=False, random_state=None, splitter='best'):\n",
      "             precision    recall  f1-score   support\n",
      "\n",
      "          0    0.89394   0.98333   0.93651        60\n",
      "          1    0.84058   0.79452   0.81690        73\n",
      "          2    0.88525   0.76056   0.81818        71\n",
      "          3    0.80822   0.84286   0.82517        70\n",
      "          4    0.85714   0.85714   0.85714        63\n",
      "          5    0.87209   0.84270   0.85714        89\n",
      "          6    0.93590   0.96053   0.94805        76\n",
      "          7    0.81333   0.93846   0.87143        65\n",
      "          8    0.71212   0.60256   0.65278        78\n",
      "          9    0.76829   0.85135   0.80769        74\n",
      "\n",
      "avg / total    0.83788   0.83866   0.83636       719\n",
      "\n",
      "\n",
      "Confusion matrix:\n",
      "[[59  0  0  0  1  0  0  0  0  0]\n",
      " [ 1 58  2  1  1  2  2  2  2  2]\n",
      " [ 1  3 54  3  1  0  0  0  7  2]\n",
      " [ 0  0  1 59  0  3  1  0  1  5]\n",
      " [ 0  0  0  1 54  1  0  5  1  1]\n",
      " [ 0  2  0  1  3 75  1  0  6  1]\n",
      " [ 1  0  0  0  0  1 73  1  0  0]\n",
      " [ 1  0  0  0  1  0  0 61  2  0]\n",
      " [ 2  5  4  6  2  1  0  3 47  8]\n",
      " [ 1  1  0  2  0  3  1  3  0 63]]\n"
     ]
    }
   ],
   "source": [
    "# oof this is terrible!\n",
    "expected = y_test\n",
    "predicted = clf.predict(X_test)\n",
    "print(\"Classification report for classifier %s:\\n%s\\n\"\n",
    "      % (clf, classification_report(expected, predicted, digits=5)))\n",
    "print(\"Confusion matrix:\\n%s\" % confusion_matrix(expected, predicted))"
   ]
  },
  {
   "cell_type": "code",
   "execution_count": 11,
   "metadata": {
    "collapsed": false
   },
   "outputs": [
    {
     "data": {
      "text/plain": [
       "{'class_weight': None,\n",
       " 'criterion': 'gini',\n",
       " 'max_depth': None,\n",
       " 'max_features': None,\n",
       " 'max_leaf_nodes': None,\n",
       " 'min_impurity_split': 1e-07,\n",
       " 'min_samples_leaf': 1,\n",
       " 'min_samples_split': 2,\n",
       " 'min_weight_fraction_leaf': 0.0,\n",
       " 'presort': False,\n",
       " 'random_state': None,\n",
       " 'splitter': 'best'}"
      ]
     },
     "execution_count": 11,
     "metadata": {},
     "output_type": "execute_result"
    }
   ],
   "source": [
    "clf.get_params()"
   ]
  },
  {
   "cell_type": "code",
   "execution_count": 13,
   "metadata": {
    "collapsed": false
   },
   "outputs": [],
   "source": [
    "param_grid = [\n",
    "  {'class_weight': [\"balanced\", None], 'criterion': ['gini', 'entropy'], \n",
    "   'max_features': [\"auto\", \"sqrt\", \"log2\", None], 'max_depth': [1, 2, 4, 8, 16, 32, 64]},\n",
    " ]"
   ]
  },
  {
   "cell_type": "code",
   "execution_count": null,
   "metadata": {
    "collapsed": true
   },
   "outputs": [],
   "source": []
  }
 ],
 "metadata": {
  "kernelspec": {
   "display_name": "Python 2",
   "language": "python",
   "name": "python2"
  },
  "language_info": {
   "codemirror_mode": {
    "name": "ipython",
    "version": 2
   },
   "file_extension": ".py",
   "mimetype": "text/x-python",
   "name": "python",
   "nbconvert_exporter": "python",
   "pygments_lexer": "ipython2",
   "version": "2.7.12"
  }
 },
 "nbformat": 4,
 "nbformat_minor": 2
}
