{
 "cells": [
  {
   "cell_type": "markdown",
   "metadata": {
    "deletable": true,
    "editable": true
   },
   "source": [
    "Playing with decision trees"
   ]
  },
  {
   "cell_type": "code",
   "execution_count": 4,
   "metadata": {
    "collapsed": true,
    "deletable": true,
    "editable": true
   },
   "outputs": [],
   "source": [
    "from sklearn.model_selection import train_test_split\n",
    "from sklearn.tree import DecisionTreeClassifier\n",
    "from sklearn import datasets\n",
    "from sklearn.metrics import classification_report, confusion_matrix\n",
    "from sklearn.metrics import classification_report\n",
    "from sklearn.model_selection import GridSearchCV\n",
    "import numpy as np"
   ]
  },
  {
   "cell_type": "code",
   "execution_count": 2,
   "metadata": {
    "collapsed": true,
    "deletable": true,
    "editable": true
   },
   "outputs": [],
   "source": [
    "digits = datasets.load_digits()\n",
    "\n",
    "n_samples = len(digits.images)\n",
    "data = digits.images.reshape((n_samples, -1))\n",
    "\n",
    "X_train, X_test, y_train, y_test = train_test_split(digits.images, digits.target, \\\n",
    "                                                    test_size=.4, random_state=0)\n",
    "X_train = X_train.reshape(X_train.shape[0],64)\n",
    "X_test = X_test.reshape(X_test.shape[0],64)"
   ]
  },
  {
   "cell_type": "code",
   "execution_count": 3,
   "metadata": {
    "collapsed": false,
    "deletable": true,
    "editable": true
   },
   "outputs": [
    {
     "data": {
      "text/plain": [
       "DecisionTreeClassifier(class_weight=None, criterion='gini', max_depth=None,\n",
       "            max_features=None, max_leaf_nodes=None,\n",
       "            min_impurity_split=1e-07, min_samples_leaf=1,\n",
       "            min_samples_split=2, min_weight_fraction_leaf=0.0,\n",
       "            presort=False, random_state=None, splitter='best')"
      ]
     },
     "execution_count": 3,
     "metadata": {},
     "output_type": "execute_result"
    }
   ],
   "source": [
    "clf = DecisionTreeClassifier()\n",
    "clf.fit(X_train, y_train)"
   ]
  },
  {
   "cell_type": "code",
   "execution_count": 4,
   "metadata": {
    "collapsed": false,
    "deletable": true,
    "editable": true
   },
   "outputs": [
    {
     "name": "stdout",
     "output_type": "stream",
     "text": [
      "Classification report for classifier DecisionTreeClassifier(class_weight=None, criterion='gini', max_depth=None,\n",
      "            max_features=None, max_leaf_nodes=None,\n",
      "            min_impurity_split=1e-07, min_samples_leaf=1,\n",
      "            min_samples_split=2, min_weight_fraction_leaf=0.0,\n",
      "            presort=False, random_state=None, splitter='best'):\n",
      "             precision    recall  f1-score   support\n",
      "\n",
      "          0    0.92188   0.98333   0.95161        60\n",
      "          1    0.81818   0.86301   0.84000        73\n",
      "          2    0.94828   0.77465   0.85271        71\n",
      "          3    0.72500   0.82857   0.77333        70\n",
      "          4    0.88525   0.85714   0.87097        63\n",
      "          5    0.81928   0.76404   0.79070        89\n",
      "          6    0.92405   0.96053   0.94194        76\n",
      "          7    0.87879   0.89231   0.88550        65\n",
      "          8    0.76667   0.58974   0.66667        78\n",
      "          9    0.68132   0.83784   0.75152        74\n",
      "\n",
      "avg / total    0.83362   0.82893   0.82767       719\n",
      "\n",
      "\n",
      "Confusion matrix:\n",
      "[[59  0  0  0  1  0  0  0  0  0]\n",
      " [ 0 63  1  1  1  0  1  2  2  2]\n",
      " [ 0  3 55  3  1  0  1  0  4  4]\n",
      " [ 0  0  1 58  0  4  1  0  0  6]\n",
      " [ 1  0  0  1 54  3  1  3  0  0]\n",
      " [ 0  3  0  2  3 68  0  1  7  5]\n",
      " [ 1  0  0  0  0  1 73  0  0  1]\n",
      " [ 0  0  1  2  1  2  0 58  1  0]\n",
      " [ 1  7  0 10  0  1  1  1 46 11]\n",
      " [ 2  1  0  3  0  4  1  1  0 62]]\n"
     ]
    }
   ],
   "source": [
    "# oof this is terrible!\n",
    "expected = y_test\n",
    "predicted = clf.predict(X_test)\n",
    "print(\"Classification report for classifier %s:\\n%s\\n\"\n",
    "      % (clf, classification_report(expected, predicted, digits=5)))\n",
    "print(\"Confusion matrix:\\n%s\" % confusion_matrix(expected, predicted))"
   ]
  },
  {
   "cell_type": "code",
   "execution_count": 5,
   "metadata": {
    "collapsed": false,
    "deletable": true,
    "editable": true
   },
   "outputs": [
    {
     "data": {
      "text/plain": [
       "{'class_weight': None,\n",
       " 'criterion': 'gini',\n",
       " 'max_depth': None,\n",
       " 'max_features': None,\n",
       " 'max_leaf_nodes': None,\n",
       " 'min_impurity_split': 1e-07,\n",
       " 'min_samples_leaf': 1,\n",
       " 'min_samples_split': 2,\n",
       " 'min_weight_fraction_leaf': 0.0,\n",
       " 'presort': False,\n",
       " 'random_state': None,\n",
       " 'splitter': 'best'}"
      ]
     },
     "execution_count": 5,
     "metadata": {},
     "output_type": "execute_result"
    }
   ],
   "source": [
    "clf.get_params()"
   ]
  },
  {
   "cell_type": "code",
   "execution_count": 6,
   "metadata": {
    "collapsed": false,
    "deletable": true,
    "editable": true
   },
   "outputs": [],
   "source": [
    "param_grid = [\n",
    "  {'class_weight': [\"balanced\", None], 'criterion': ['gini', 'entropy'], \n",
    "   'max_features': [\"auto\", \"sqrt\", \"log2\", None], 'max_depth': [1, 2, 4, 8, 16, 32, 64]},\n",
    " ]"
   ]
  },
  {
   "cell_type": "code",
   "execution_count": 7,
   "metadata": {
    "collapsed": false,
    "deletable": true,
    "editable": true
   },
   "outputs": [
    {
     "name": "stdout",
     "output_type": "stream",
     "text": [
      "# Tuning hyper-parameters for precision\n",
      "\n",
      "\n"
     ]
    },
    {
     "name": "stderr",
     "output_type": "stream",
     "text": [
      "/usr/local/lib/python2.7/site-packages/sklearn/metrics/classification.py:1113: UndefinedMetricWarning: Precision is ill-defined and being set to 0.0 in labels with no predicted samples.\n",
      "  'precision', 'predicted', average, warn_for)\n"
     ]
    },
    {
     "name": "stdout",
     "output_type": "stream",
     "text": [
      "Best parameters set found on development set:\n",
      "\n",
      "\n",
      "{'max_features': None, 'criterion': 'gini', 'max_depth': 16, 'class_weight': 'balanced'}\n",
      "\n",
      "\n",
      "Grid scores on development set:\n",
      "\n",
      "\n",
      "0.04287 (+/-0.00696) for {'max_features': 'auto', 'criterion': 'gini', 'max_depth': 1, 'class_weight': 'balanced'}\n",
      "0.04437 (+/-0.00829) for {'max_features': 'sqrt', 'criterion': 'gini', 'max_depth': 1, 'class_weight': 'balanced'}\n",
      "0.06067 (+/-0.03211) for {'max_features': 'log2', 'criterion': 'gini', 'max_depth': 1, 'class_weight': 'balanced'}\n",
      "0.07584 (+/-0.00399) for {'max_features': None, 'criterion': 'gini', 'max_depth': 1, 'class_weight': 'balanced'}\n",
      "0.17105 (+/-0.03987) for {'max_features': 'auto', 'criterion': 'gini', 'max_depth': 2, 'class_weight': 'balanced'}\n",
      "0.17202 (+/-0.06585) for {'max_features': 'sqrt', 'criterion': 'gini', 'max_depth': 2, 'class_weight': 'balanced'}\n",
      "0.16973 (+/-0.08261) for {'max_features': 'log2', 'criterion': 'gini', 'max_depth': 2, 'class_weight': 'balanced'}\n",
      "0.21338 (+/-0.03327) for {'max_features': None, 'criterion': 'gini', 'max_depth': 2, 'class_weight': 'balanced'}\n",
      "0.55473 (+/-0.12319) for {'max_features': 'auto', 'criterion': 'gini', 'max_depth': 4, 'class_weight': 'balanced'}\n",
      "0.55082 (+/-0.08143) for {'max_features': 'sqrt', 'criterion': 'gini', 'max_depth': 4, 'class_weight': 'balanced'}\n",
      "0.57355 (+/-0.08763) for {'max_features': 'log2', 'criterion': 'gini', 'max_depth': 4, 'class_weight': 'balanced'}\n",
      "0.57768 (+/-0.04149) for {'max_features': None, 'criterion': 'gini', 'max_depth': 4, 'class_weight': 'balanced'}\n",
      "0.76237 (+/-0.08490) for {'max_features': 'auto', 'criterion': 'gini', 'max_depth': 8, 'class_weight': 'balanced'}\n",
      "0.78620 (+/-0.06733) for {'max_features': 'sqrt', 'criterion': 'gini', 'max_depth': 8, 'class_weight': 'balanced'}\n",
      "0.74882 (+/-0.04179) for {'max_features': 'log2', 'criterion': 'gini', 'max_depth': 8, 'class_weight': 'balanced'}\n",
      "0.82044 (+/-0.05321) for {'max_features': None, 'criterion': 'gini', 'max_depth': 8, 'class_weight': 'balanced'}\n",
      "0.77289 (+/-0.06464) for {'max_features': 'auto', 'criterion': 'gini', 'max_depth': 16, 'class_weight': 'balanced'}\n",
      "0.79673 (+/-0.03436) for {'max_features': 'sqrt', 'criterion': 'gini', 'max_depth': 16, 'class_weight': 'balanced'}\n",
      "0.78647 (+/-0.07683) for {'max_features': 'log2', 'criterion': 'gini', 'max_depth': 16, 'class_weight': 'balanced'}\n",
      "0.83905 (+/-0.04729) for {'max_features': None, 'criterion': 'gini', 'max_depth': 16, 'class_weight': 'balanced'}\n",
      "0.78940 (+/-0.08163) for {'max_features': 'auto', 'criterion': 'gini', 'max_depth': 32, 'class_weight': 'balanced'}\n",
      "0.78295 (+/-0.03995) for {'max_features': 'sqrt', 'criterion': 'gini', 'max_depth': 32, 'class_weight': 'balanced'}\n",
      "0.73882 (+/-0.06138) for {'max_features': 'log2', 'criterion': 'gini', 'max_depth': 32, 'class_weight': 'balanced'}\n",
      "0.83065 (+/-0.07262) for {'max_features': None, 'criterion': 'gini', 'max_depth': 32, 'class_weight': 'balanced'}\n",
      "0.78785 (+/-0.06458) for {'max_features': 'auto', 'criterion': 'gini', 'max_depth': 64, 'class_weight': 'balanced'}\n",
      "0.78074 (+/-0.05740) for {'max_features': 'sqrt', 'criterion': 'gini', 'max_depth': 64, 'class_weight': 'balanced'}\n",
      "0.78607 (+/-0.05914) for {'max_features': 'log2', 'criterion': 'gini', 'max_depth': 64, 'class_weight': 'balanced'}\n",
      "0.82911 (+/-0.05938) for {'max_features': None, 'criterion': 'gini', 'max_depth': 64, 'class_weight': 'balanced'}\n",
      "0.04316 (+/-0.01586) for {'max_features': 'auto', 'criterion': 'entropy', 'max_depth': 1, 'class_weight': 'balanced'}\n",
      "0.04138 (+/-0.00619) for {'max_features': 'sqrt', 'criterion': 'entropy', 'max_depth': 1, 'class_weight': 'balanced'}\n",
      "0.04299 (+/-0.00631) for {'max_features': 'log2', 'criterion': 'entropy', 'max_depth': 1, 'class_weight': 'balanced'}\n",
      "0.04160 (+/-0.00691) for {'max_features': None, 'criterion': 'entropy', 'max_depth': 1, 'class_weight': 'balanced'}\n",
      "0.15054 (+/-0.02051) for {'max_features': 'auto', 'criterion': 'entropy', 'max_depth': 2, 'class_weight': 'balanced'}\n",
      "0.14685 (+/-0.03308) for {'max_features': 'sqrt', 'criterion': 'entropy', 'max_depth': 2, 'class_weight': 'balanced'}\n",
      "0.14368 (+/-0.03825) for {'max_features': 'log2', 'criterion': 'entropy', 'max_depth': 2, 'class_weight': 'balanced'}\n",
      "0.17068 (+/-0.03842) for {'max_features': None, 'criterion': 'entropy', 'max_depth': 2, 'class_weight': 'balanced'}\n",
      "0.56220 (+/-0.07868) for {'max_features': 'auto', 'criterion': 'entropy', 'max_depth': 4, 'class_weight': 'balanced'}\n",
      "0.60745 (+/-0.10916) for {'max_features': 'sqrt', 'criterion': 'entropy', 'max_depth': 4, 'class_weight': 'balanced'}\n",
      "0.54690 (+/-0.09039) for {'max_features': 'log2', 'criterion': 'entropy', 'max_depth': 4, 'class_weight': 'balanced'}\n",
      "0.69866 (+/-0.11588) for {'max_features': None, 'criterion': 'entropy', 'max_depth': 4, 'class_weight': 'balanced'}\n",
      "0.78405 (+/-0.04576) for {'max_features': 'auto', 'criterion': 'entropy', 'max_depth': 8, 'class_weight': 'balanced'}\n",
      "0.76821 (+/-0.02724) for {'max_features': 'sqrt', 'criterion': 'entropy', 'max_depth': 8, 'class_weight': 'balanced'}\n",
      "0.76895 (+/-0.04098) for {'max_features': 'log2', 'criterion': 'entropy', 'max_depth': 8, 'class_weight': 'balanced'}\n",
      "0.83003 (+/-0.09644) for {'max_features': None, 'criterion': 'entropy', 'max_depth': 8, 'class_weight': 'balanced'}\n",
      "0.78273 (+/-0.04112) for {'max_features': 'auto', 'criterion': 'entropy', 'max_depth': 16, 'class_weight': 'balanced'}\n",
      "0.78056 (+/-0.05177) for {'max_features': 'sqrt', 'criterion': 'entropy', 'max_depth': 16, 'class_weight': 'balanced'}\n",
      "0.76538 (+/-0.02890) for {'max_features': 'log2', 'criterion': 'entropy', 'max_depth': 16, 'class_weight': 'balanced'}\n",
      "0.82750 (+/-0.05967) for {'max_features': None, 'criterion': 'entropy', 'max_depth': 16, 'class_weight': 'balanced'}\n",
      "0.79044 (+/-0.01268) for {'max_features': 'auto', 'criterion': 'entropy', 'max_depth': 32, 'class_weight': 'balanced'}\n",
      "0.78206 (+/-0.04640) for {'max_features': 'sqrt', 'criterion': 'entropy', 'max_depth': 32, 'class_weight': 'balanced'}\n",
      "0.75271 (+/-0.03477) for {'max_features': 'log2', 'criterion': 'entropy', 'max_depth': 32, 'class_weight': 'balanced'}\n",
      "0.83622 (+/-0.08334) for {'max_features': None, 'criterion': 'entropy', 'max_depth': 32, 'class_weight': 'balanced'}\n",
      "0.80027 (+/-0.06421) for {'max_features': 'auto', 'criterion': 'entropy', 'max_depth': 64, 'class_weight': 'balanced'}\n",
      "0.78709 (+/-0.01796) for {'max_features': 'sqrt', 'criterion': 'entropy', 'max_depth': 64, 'class_weight': 'balanced'}\n",
      "0.78496 (+/-0.07991) for {'max_features': 'log2', 'criterion': 'entropy', 'max_depth': 64, 'class_weight': 'balanced'}\n",
      "0.83121 (+/-0.05319) for {'max_features': None, 'criterion': 'entropy', 'max_depth': 64, 'class_weight': 'balanced'}\n",
      "0.04800 (+/-0.02264) for {'max_features': 'auto', 'criterion': 'gini', 'max_depth': 1, 'class_weight': None}\n",
      "0.05771 (+/-0.03193) for {'max_features': 'sqrt', 'criterion': 'gini', 'max_depth': 1, 'class_weight': None}\n",
      "0.04812 (+/-0.02588) for {'max_features': 'log2', 'criterion': 'gini', 'max_depth': 1, 'class_weight': None}\n",
      "0.07606 (+/-0.00447) for {'max_features': None, 'criterion': 'gini', 'max_depth': 1, 'class_weight': None}\n",
      "0.17725 (+/-0.02732) for {'max_features': 'auto', 'criterion': 'gini', 'max_depth': 2, 'class_weight': None}\n",
      "0.16127 (+/-0.04132) for {'max_features': 'sqrt', 'criterion': 'gini', 'max_depth': 2, 'class_weight': None}\n",
      "0.15484 (+/-0.03683) for {'max_features': 'log2', 'criterion': 'gini', 'max_depth': 2, 'class_weight': None}\n",
      "0.23386 (+/-0.04446) for {'max_features': None, 'criterion': 'gini', 'max_depth': 2, 'class_weight': None}\n",
      "0.53344 (+/-0.14440) for {'max_features': 'auto', 'criterion': 'gini', 'max_depth': 4, 'class_weight': None}\n",
      "0.56993 (+/-0.16877) for {'max_features': 'sqrt', 'criterion': 'gini', 'max_depth': 4, 'class_weight': None}\n",
      "0.56250 (+/-0.18409) for {'max_features': 'log2', 'criterion': 'gini', 'max_depth': 4, 'class_weight': None}\n",
      "0.56344 (+/-0.02892) for {'max_features': None, 'criterion': 'gini', 'max_depth': 4, 'class_weight': None}\n",
      "0.76419 (+/-0.02851) for {'max_features': 'auto', 'criterion': 'gini', 'max_depth': 8, 'class_weight': None}\n",
      "0.77557 (+/-0.05850) for {'max_features': 'sqrt', 'criterion': 'gini', 'max_depth': 8, 'class_weight': None}\n",
      "0.74196 (+/-0.05674) for {'max_features': 'log2', 'criterion': 'gini', 'max_depth': 8, 'class_weight': None}\n",
      "0.81854 (+/-0.03168) for {'max_features': None, 'criterion': 'gini', 'max_depth': 8, 'class_weight': None}\n",
      "0.76375 (+/-0.05141) for {'max_features': 'auto', 'criterion': 'gini', 'max_depth': 16, 'class_weight': None}\n",
      "0.77634 (+/-0.07082) for {'max_features': 'sqrt', 'criterion': 'gini', 'max_depth': 16, 'class_weight': None}\n",
      "0.77279 (+/-0.04191) for {'max_features': 'log2', 'criterion': 'gini', 'max_depth': 16, 'class_weight': None}\n",
      "0.82914 (+/-0.06401) for {'max_features': None, 'criterion': 'gini', 'max_depth': 16, 'class_weight': None}\n",
      "0.77134 (+/-0.04517) for {'max_features': 'auto', 'criterion': 'gini', 'max_depth': 32, 'class_weight': None}\n",
      "0.77451 (+/-0.06151) for {'max_features': 'sqrt', 'criterion': 'gini', 'max_depth': 32, 'class_weight': None}\n",
      "0.76476 (+/-0.05951) for {'max_features': 'log2', 'criterion': 'gini', 'max_depth': 32, 'class_weight': None}\n",
      "0.82774 (+/-0.07815) for {'max_features': None, 'criterion': 'gini', 'max_depth': 32, 'class_weight': None}\n",
      "0.78910 (+/-0.07760) for {'max_features': 'auto', 'criterion': 'gini', 'max_depth': 64, 'class_weight': None}\n",
      "0.76100 (+/-0.05893) for {'max_features': 'sqrt', 'criterion': 'gini', 'max_depth': 64, 'class_weight': None}\n",
      "0.76788 (+/-0.03411) for {'max_features': 'log2', 'criterion': 'gini', 'max_depth': 64, 'class_weight': None}\n",
      "0.83461 (+/-0.05052) for {'max_features': None, 'criterion': 'gini', 'max_depth': 64, 'class_weight': None}\n",
      "0.04672 (+/-0.01755) for {'max_features': 'auto', 'criterion': 'entropy', 'max_depth': 1, 'class_weight': None}\n",
      "0.04709 (+/-0.01509) for {'max_features': 'sqrt', 'criterion': 'entropy', 'max_depth': 1, 'class_weight': None}\n",
      "0.04277 (+/-0.00711) for {'max_features': 'log2', 'criterion': 'entropy', 'max_depth': 1, 'class_weight': None}\n",
      "0.04391 (+/-0.00589) for {'max_features': None, 'criterion': 'entropy', 'max_depth': 1, 'class_weight': None}\n",
      "0.13130 (+/-0.02797) for {'max_features': 'auto', 'criterion': 'entropy', 'max_depth': 2, 'class_weight': None}\n",
      "0.15312 (+/-0.05074) for {'max_features': 'sqrt', 'criterion': 'entropy', 'max_depth': 2, 'class_weight': None}\n",
      "0.14184 (+/-0.02597) for {'max_features': 'log2', 'criterion': 'entropy', 'max_depth': 2, 'class_weight': None}\n",
      "0.17445 (+/-0.03872) for {'max_features': None, 'criterion': 'entropy', 'max_depth': 2, 'class_weight': None}\n",
      "0.54612 (+/-0.07269) for {'max_features': 'auto', 'criterion': 'entropy', 'max_depth': 4, 'class_weight': None}\n",
      "0.59658 (+/-0.08746) for {'max_features': 'sqrt', 'criterion': 'entropy', 'max_depth': 4, 'class_weight': None}\n",
      "0.51998 (+/-0.05858) for {'max_features': 'log2', 'criterion': 'entropy', 'max_depth': 4, 'class_weight': None}\n",
      "0.68839 (+/-0.10029) for {'max_features': None, 'criterion': 'entropy', 'max_depth': 4, 'class_weight': None}\n",
      "0.76570 (+/-0.06182) for {'max_features': 'auto', 'criterion': 'entropy', 'max_depth': 8, 'class_weight': None}\n",
      "0.76943 (+/-0.03991) for {'max_features': 'sqrt', 'criterion': 'entropy', 'max_depth': 8, 'class_weight': None}\n",
      "0.77611 (+/-0.07410) for {'max_features': 'log2', 'criterion': 'entropy', 'max_depth': 8, 'class_weight': None}\n",
      "0.82115 (+/-0.03691) for {'max_features': None, 'criterion': 'entropy', 'max_depth': 8, 'class_weight': None}\n",
      "0.76664 (+/-0.02289) for {'max_features': 'auto', 'criterion': 'entropy', 'max_depth': 16, 'class_weight': None}\n",
      "0.80035 (+/-0.04646) for {'max_features': 'sqrt', 'criterion': 'entropy', 'max_depth': 16, 'class_weight': None}\n",
      "0.76987 (+/-0.05575) for {'max_features': 'log2', 'criterion': 'entropy', 'max_depth': 16, 'class_weight': None}\n",
      "0.82770 (+/-0.01947) for {'max_features': None, 'criterion': 'entropy', 'max_depth': 16, 'class_weight': None}\n",
      "0.81344 (+/-0.05464) for {'max_features': 'auto', 'criterion': 'entropy', 'max_depth': 32, 'class_weight': None}\n",
      "0.77388 (+/-0.03861) for {'max_features': 'sqrt', 'criterion': 'entropy', 'max_depth': 32, 'class_weight': None}\n",
      "0.79064 (+/-0.06452) for {'max_features': 'log2', 'criterion': 'entropy', 'max_depth': 32, 'class_weight': None}\n",
      "0.83571 (+/-0.02839) for {'max_features': None, 'criterion': 'entropy', 'max_depth': 32, 'class_weight': None}\n",
      "0.80749 (+/-0.06368) for {'max_features': 'auto', 'criterion': 'entropy', 'max_depth': 64, 'class_weight': None}\n",
      "0.78905 (+/-0.02951) for {'max_features': 'sqrt', 'criterion': 'entropy', 'max_depth': 64, 'class_weight': None}\n",
      "0.76251 (+/-0.10544) for {'max_features': 'log2', 'criterion': 'entropy', 'max_depth': 64, 'class_weight': None}\n",
      "0.82786 (+/-0.03240) for {'max_features': None, 'criterion': 'entropy', 'max_depth': 64, 'class_weight': None}\n",
      "\n",
      "\n",
      "Detailed classification report:\n",
      "\n",
      "\n",
      "The model is trained on the full development set.\n",
      "The scores are computed on the full evaluation set.\n",
      "\n",
      "\n",
      "             precision    recall  f1-score   support\n",
      "\n",
      "          0    0.95161   0.98333   0.96721        60\n",
      "          1    0.84722   0.83562   0.84138        73\n",
      "          2    0.88235   0.84507   0.86331        71\n",
      "          3    0.80882   0.78571   0.79710        70\n",
      "          4    0.80822   0.93651   0.86765        63\n",
      "          5    0.96250   0.86517   0.91124        89\n",
      "          6    0.94595   0.92105   0.93333        76\n",
      "          7    0.87500   0.86154   0.86822        65\n",
      "          8    0.76712   0.71795   0.74172        78\n",
      "          9    0.74118   0.85135   0.79245        74\n",
      "\n",
      "avg / total    0.85986   0.85675   0.85698       719\n",
      "\n",
      "\n",
      "\n",
      "# Tuning hyper-parameters for recall\n",
      "\n",
      "\n",
      "Best parameters set found on development set:\n",
      "\n",
      "\n",
      "{'max_features': None, 'criterion': 'entropy', 'max_depth': 16, 'class_weight': 'balanced'}\n",
      "\n",
      "\n",
      "Grid scores on development set:\n",
      "\n",
      "\n",
      "0.18131 (+/-0.02850) for {'max_features': 'auto', 'criterion': 'gini', 'max_depth': 1, 'class_weight': 'balanced'}\n",
      "0.18397 (+/-0.01671) for {'max_features': 'sqrt', 'criterion': 'gini', 'max_depth': 1, 'class_weight': 'balanced'}\n",
      "0.19213 (+/-0.00996) for {'max_features': 'log2', 'criterion': 'gini', 'max_depth': 1, 'class_weight': 'balanced'}\n",
      "0.19570 (+/-0.00786) for {'max_features': None, 'criterion': 'gini', 'max_depth': 1, 'class_weight': 'balanced'}\n",
      "0.32616 (+/-0.05134) for {'max_features': 'auto', 'criterion': 'gini', 'max_depth': 2, 'class_weight': 'balanced'}\n",
      "0.31484 (+/-0.07911) for {'max_features': 'sqrt', 'criterion': 'gini', 'max_depth': 2, 'class_weight': 'balanced'}\n",
      "0.30293 (+/-0.04382) for {'max_features': 'log2', 'criterion': 'gini', 'max_depth': 2, 'class_weight': 'balanced'}\n",
      "0.31357 (+/-0.03454) for {'max_features': None, 'criterion': 'gini', 'max_depth': 2, 'class_weight': 'balanced'}\n",
      "0.57232 (+/-0.07106) for {'max_features': 'auto', 'criterion': 'gini', 'max_depth': 4, 'class_weight': 'balanced'}\n",
      "0.55697 (+/-0.12605) for {'max_features': 'sqrt', 'criterion': 'gini', 'max_depth': 4, 'class_weight': 'balanced'}\n",
      "0.53504 (+/-0.05839) for {'max_features': 'log2', 'criterion': 'gini', 'max_depth': 4, 'class_weight': 'balanced'}\n",
      "0.57878 (+/-0.08583) for {'max_features': None, 'criterion': 'gini', 'max_depth': 4, 'class_weight': 'balanced'}\n",
      "0.76136 (+/-0.07012) for {'max_features': 'auto', 'criterion': 'gini', 'max_depth': 8, 'class_weight': 'balanced'}\n",
      "0.76659 (+/-0.07542) for {'max_features': 'sqrt', 'criterion': 'gini', 'max_depth': 8, 'class_weight': 'balanced'}\n",
      "0.74627 (+/-0.05043) for {'max_features': 'log2', 'criterion': 'gini', 'max_depth': 8, 'class_weight': 'balanced'}\n",
      "0.80736 (+/-0.05055) for {'max_features': None, 'criterion': 'gini', 'max_depth': 8, 'class_weight': 'balanced'}\n",
      "0.76131 (+/-0.04086) for {'max_features': 'auto', 'criterion': 'gini', 'max_depth': 16, 'class_weight': 'balanced'}\n",
      "0.76921 (+/-0.04898) for {'max_features': 'sqrt', 'criterion': 'gini', 'max_depth': 16, 'class_weight': 'balanced'}\n",
      "0.79055 (+/-0.06606) for {'max_features': 'log2', 'criterion': 'gini', 'max_depth': 16, 'class_weight': 'balanced'}\n",
      "0.82345 (+/-0.04618) for {'max_features': None, 'criterion': 'gini', 'max_depth': 16, 'class_weight': 'balanced'}\n",
      "0.75449 (+/-0.02769) for {'max_features': 'auto', 'criterion': 'gini', 'max_depth': 32, 'class_weight': 'balanced'}\n",
      "0.77436 (+/-0.05135) for {'max_features': 'sqrt', 'criterion': 'gini', 'max_depth': 32, 'class_weight': 'balanced'}\n",
      "0.75176 (+/-0.07502) for {'max_features': 'log2', 'criterion': 'gini', 'max_depth': 32, 'class_weight': 'balanced'}\n",
      "0.82378 (+/-0.07230) for {'max_features': None, 'criterion': 'gini', 'max_depth': 32, 'class_weight': 'balanced'}\n",
      "0.77695 (+/-0.06023) for {'max_features': 'auto', 'criterion': 'gini', 'max_depth': 64, 'class_weight': 'balanced'}\n",
      "0.77241 (+/-0.08464) for {'max_features': 'sqrt', 'criterion': 'gini', 'max_depth': 64, 'class_weight': 'balanced'}\n",
      "0.75566 (+/-0.04629) for {'max_features': 'log2', 'criterion': 'gini', 'max_depth': 64, 'class_weight': 'balanced'}\n",
      "0.83370 (+/-0.05245) for {'max_features': None, 'criterion': 'gini', 'max_depth': 64, 'class_weight': 'balanced'}\n",
      "0.19277 (+/-0.01360) for {'max_features': 'auto', 'criterion': 'entropy', 'max_depth': 1, 'class_weight': 'balanced'}\n",
      "0.18432 (+/-0.01325) for {'max_features': 'sqrt', 'criterion': 'entropy', 'max_depth': 1, 'class_weight': 'balanced'}\n",
      "0.19075 (+/-0.01696) for {'max_features': 'log2', 'criterion': 'entropy', 'max_depth': 1, 'class_weight': 'balanced'}\n",
      "0.18665 (+/-0.01300) for {'max_features': None, 'criterion': 'entropy', 'max_depth': 1, 'class_weight': 'balanced'}\n",
      "0.32087 (+/-0.04460) for {'max_features': 'auto', 'criterion': 'entropy', 'max_depth': 2, 'class_weight': 'balanced'}\n",
      "0.33488 (+/-0.04249) for {'max_features': 'sqrt', 'criterion': 'entropy', 'max_depth': 2, 'class_weight': 'balanced'}\n",
      "0.30169 (+/-0.07619) for {'max_features': 'log2', 'criterion': 'entropy', 'max_depth': 2, 'class_weight': 'balanced'}\n",
      "0.35521 (+/-0.03389) for {'max_features': None, 'criterion': 'entropy', 'max_depth': 2, 'class_weight': 'balanced'}\n",
      "0.59481 (+/-0.03658) for {'max_features': 'auto', 'criterion': 'entropy', 'max_depth': 4, 'class_weight': 'balanced'}\n",
      "0.57196 (+/-0.07046) for {'max_features': 'sqrt', 'criterion': 'entropy', 'max_depth': 4, 'class_weight': 'balanced'}\n",
      "0.56564 (+/-0.00877) for {'max_features': 'log2', 'criterion': 'entropy', 'max_depth': 4, 'class_weight': 'balanced'}\n",
      "0.67165 (+/-0.09144) for {'max_features': None, 'criterion': 'entropy', 'max_depth': 4, 'class_weight': 'balanced'}\n",
      "0.77878 (+/-0.05039) for {'max_features': 'auto', 'criterion': 'entropy', 'max_depth': 8, 'class_weight': 'balanced'}\n",
      "0.77855 (+/-0.03001) for {'max_features': 'sqrt', 'criterion': 'entropy', 'max_depth': 8, 'class_weight': 'balanced'}\n",
      "0.76704 (+/-0.06143) for {'max_features': 'log2', 'criterion': 'entropy', 'max_depth': 8, 'class_weight': 'balanced'}\n",
      "0.81838 (+/-0.07453) for {'max_features': None, 'criterion': 'entropy', 'max_depth': 8, 'class_weight': 'balanced'}\n",
      "0.80087 (+/-0.02159) for {'max_features': 'auto', 'criterion': 'entropy', 'max_depth': 16, 'class_weight': 'balanced'}\n",
      "0.76709 (+/-0.04536) for {'max_features': 'sqrt', 'criterion': 'entropy', 'max_depth': 16, 'class_weight': 'balanced'}\n",
      "0.76751 (+/-0.06747) for {'max_features': 'log2', 'criterion': 'entropy', 'max_depth': 16, 'class_weight': 'balanced'}\n",
      "0.83742 (+/-0.08310) for {'max_features': None, 'criterion': 'entropy', 'max_depth': 16, 'class_weight': 'balanced'}\n",
      "0.77643 (+/-0.05600) for {'max_features': 'auto', 'criterion': 'entropy', 'max_depth': 32, 'class_weight': 'balanced'}\n",
      "0.78528 (+/-0.05913) for {'max_features': 'sqrt', 'criterion': 'entropy', 'max_depth': 32, 'class_weight': 'balanced'}\n",
      "0.76399 (+/-0.02025) for {'max_features': 'log2', 'criterion': 'entropy', 'max_depth': 32, 'class_weight': 'balanced'}\n",
      "0.81858 (+/-0.08097) for {'max_features': None, 'criterion': 'entropy', 'max_depth': 32, 'class_weight': 'balanced'}\n",
      "0.81229 (+/-0.04824) for {'max_features': 'auto', 'criterion': 'entropy', 'max_depth': 64, 'class_weight': 'balanced'}\n",
      "0.78844 (+/-0.08208) for {'max_features': 'sqrt', 'criterion': 'entropy', 'max_depth': 64, 'class_weight': 'balanced'}\n",
      "0.78481 (+/-0.04642) for {'max_features': 'log2', 'criterion': 'entropy', 'max_depth': 64, 'class_weight': 'balanced'}\n",
      "0.82092 (+/-0.07265) for {'max_features': None, 'criterion': 'entropy', 'max_depth': 64, 'class_weight': 'balanced'}\n",
      "0.18958 (+/-0.01089) for {'max_features': 'auto', 'criterion': 'gini', 'max_depth': 1, 'class_weight': None}\n",
      "0.18956 (+/-0.00858) for {'max_features': 'sqrt', 'criterion': 'gini', 'max_depth': 1, 'class_weight': None}\n",
      "0.18649 (+/-0.01817) for {'max_features': 'log2', 'criterion': 'gini', 'max_depth': 1, 'class_weight': None}\n",
      "0.19321 (+/-0.00433) for {'max_features': None, 'criterion': 'gini', 'max_depth': 1, 'class_weight': None}\n",
      "0.33305 (+/-0.02320) for {'max_features': 'auto', 'criterion': 'gini', 'max_depth': 2, 'class_weight': None}\n",
      "0.32981 (+/-0.03526) for {'max_features': 'sqrt', 'criterion': 'gini', 'max_depth': 2, 'class_weight': None}\n",
      "0.32222 (+/-0.05320) for {'max_features': 'log2', 'criterion': 'gini', 'max_depth': 2, 'class_weight': None}\n",
      "0.30157 (+/-0.03273) for {'max_features': None, 'criterion': 'gini', 'max_depth': 2, 'class_weight': None}\n",
      "0.56465 (+/-0.14302) for {'max_features': 'auto', 'criterion': 'gini', 'max_depth': 4, 'class_weight': None}\n",
      "0.55017 (+/-0.07201) for {'max_features': 'sqrt', 'criterion': 'gini', 'max_depth': 4, 'class_weight': None}\n",
      "0.52257 (+/-0.11167) for {'max_features': 'log2', 'criterion': 'gini', 'max_depth': 4, 'class_weight': None}\n",
      "0.55710 (+/-0.10629) for {'max_features': None, 'criterion': 'gini', 'max_depth': 4, 'class_weight': None}\n",
      "0.73324 (+/-0.09208) for {'max_features': 'auto', 'criterion': 'gini', 'max_depth': 8, 'class_weight': None}\n",
      "0.77237 (+/-0.01498) for {'max_features': 'sqrt', 'criterion': 'gini', 'max_depth': 8, 'class_weight': None}\n",
      "0.74233 (+/-0.04040) for {'max_features': 'log2', 'criterion': 'gini', 'max_depth': 8, 'class_weight': None}\n",
      "0.80680 (+/-0.04912) for {'max_features': None, 'criterion': 'gini', 'max_depth': 8, 'class_weight': None}\n",
      "0.78275 (+/-0.04583) for {'max_features': 'auto', 'criterion': 'gini', 'max_depth': 16, 'class_weight': None}\n",
      "0.78018 (+/-0.07717) for {'max_features': 'sqrt', 'criterion': 'gini', 'max_depth': 16, 'class_weight': None}\n",
      "0.75690 (+/-0.02918) for {'max_features': 'log2', 'criterion': 'gini', 'max_depth': 16, 'class_weight': None}\n",
      "0.83419 (+/-0.05323) for {'max_features': None, 'criterion': 'gini', 'max_depth': 16, 'class_weight': None}\n",
      "0.75785 (+/-0.07022) for {'max_features': 'auto', 'criterion': 'gini', 'max_depth': 32, 'class_weight': None}\n",
      "0.78376 (+/-0.06868) for {'max_features': 'sqrt', 'criterion': 'gini', 'max_depth': 32, 'class_weight': None}\n",
      "0.76198 (+/-0.06949) for {'max_features': 'log2', 'criterion': 'gini', 'max_depth': 32, 'class_weight': None}\n",
      "0.81968 (+/-0.04984) for {'max_features': None, 'criterion': 'gini', 'max_depth': 32, 'class_weight': None}\n",
      "0.77528 (+/-0.05042) for {'max_features': 'auto', 'criterion': 'gini', 'max_depth': 64, 'class_weight': None}\n",
      "0.76848 (+/-0.05422) for {'max_features': 'sqrt', 'criterion': 'gini', 'max_depth': 64, 'class_weight': None}\n",
      "0.74696 (+/-0.03551) for {'max_features': 'log2', 'criterion': 'gini', 'max_depth': 64, 'class_weight': None}\n",
      "0.81608 (+/-0.05046) for {'max_features': None, 'criterion': 'gini', 'max_depth': 64, 'class_weight': None}\n",
      "0.19037 (+/-0.00891) for {'max_features': 'auto', 'criterion': 'entropy', 'max_depth': 1, 'class_weight': None}\n",
      "0.19024 (+/-0.00997) for {'max_features': 'sqrt', 'criterion': 'entropy', 'max_depth': 1, 'class_weight': None}\n",
      "0.19111 (+/-0.01474) for {'max_features': 'log2', 'criterion': 'entropy', 'max_depth': 1, 'class_weight': None}\n",
      "0.18878 (+/-0.00948) for {'max_features': None, 'criterion': 'entropy', 'max_depth': 1, 'class_weight': None}\n",
      "0.32532 (+/-0.05492) for {'max_features': 'auto', 'criterion': 'entropy', 'max_depth': 2, 'class_weight': None}\n",
      "0.33274 (+/-0.01266) for {'max_features': 'sqrt', 'criterion': 'entropy', 'max_depth': 2, 'class_weight': None}\n",
      "0.30277 (+/-0.04413) for {'max_features': 'log2', 'criterion': 'entropy', 'max_depth': 2, 'class_weight': None}\n",
      "0.35229 (+/-0.02662) for {'max_features': None, 'criterion': 'entropy', 'max_depth': 2, 'class_weight': None}\n",
      "0.53100 (+/-0.07151) for {'max_features': 'auto', 'criterion': 'entropy', 'max_depth': 4, 'class_weight': None}\n",
      "0.58973 (+/-0.08071) for {'max_features': 'sqrt', 'criterion': 'entropy', 'max_depth': 4, 'class_weight': None}\n",
      "0.55567 (+/-0.05028) for {'max_features': 'log2', 'criterion': 'entropy', 'max_depth': 4, 'class_weight': None}\n",
      "0.67664 (+/-0.09548) for {'max_features': None, 'criterion': 'entropy', 'max_depth': 4, 'class_weight': None}\n",
      "0.76990 (+/-0.05710) for {'max_features': 'auto', 'criterion': 'entropy', 'max_depth': 8, 'class_weight': None}\n",
      "0.75449 (+/-0.07562) for {'max_features': 'sqrt', 'criterion': 'entropy', 'max_depth': 8, 'class_weight': None}\n",
      "0.75433 (+/-0.06442) for {'max_features': 'log2', 'criterion': 'entropy', 'max_depth': 8, 'class_weight': None}\n",
      "0.81807 (+/-0.03858) for {'max_features': None, 'criterion': 'entropy', 'max_depth': 8, 'class_weight': None}\n",
      "0.77810 (+/-0.02641) for {'max_features': 'auto', 'criterion': 'entropy', 'max_depth': 16, 'class_weight': None}\n",
      "0.79515 (+/-0.07322) for {'max_features': 'sqrt', 'criterion': 'entropy', 'max_depth': 16, 'class_weight': None}\n",
      "0.77413 (+/-0.06150) for {'max_features': 'log2', 'criterion': 'entropy', 'max_depth': 16, 'class_weight': None}\n",
      "0.81835 (+/-0.02067) for {'max_features': None, 'criterion': 'entropy', 'max_depth': 16, 'class_weight': None}\n",
      "0.79008 (+/-0.00717) for {'max_features': 'auto', 'criterion': 'entropy', 'max_depth': 32, 'class_weight': None}\n",
      "0.77504 (+/-0.06730) for {'max_features': 'sqrt', 'criterion': 'entropy', 'max_depth': 32, 'class_weight': None}\n",
      "0.74854 (+/-0.04814) for {'max_features': 'log2', 'criterion': 'entropy', 'max_depth': 32, 'class_weight': None}\n",
      "0.82322 (+/-0.03354) for {'max_features': None, 'criterion': 'entropy', 'max_depth': 32, 'class_weight': None}\n",
      "0.80139 (+/-0.02568) for {'max_features': 'auto', 'criterion': 'entropy', 'max_depth': 64, 'class_weight': None}\n",
      "0.77247 (+/-0.05977) for {'max_features': 'sqrt', 'criterion': 'entropy', 'max_depth': 64, 'class_weight': None}\n",
      "0.78127 (+/-0.07037) for {'max_features': 'log2', 'criterion': 'entropy', 'max_depth': 64, 'class_weight': None}\n",
      "0.81958 (+/-0.04746) for {'max_features': None, 'criterion': 'entropy', 'max_depth': 64, 'class_weight': None}\n",
      "\n",
      "\n",
      "Detailed classification report:\n",
      "\n",
      "\n",
      "The model is trained on the full development set.\n",
      "The scores are computed on the full evaluation set.\n",
      "\n",
      "\n",
      "             precision    recall  f1-score   support\n",
      "\n",
      "          0    0.95000   0.95000   0.95000        60\n",
      "          1    0.82051   0.87671   0.84768        73\n",
      "          2    0.90323   0.78873   0.84211        71\n",
      "          3    0.81250   0.74286   0.77612        70\n",
      "          4    0.84848   0.88889   0.86822        63\n",
      "          5    0.89773   0.88764   0.89266        89\n",
      "          6    0.89157   0.97368   0.93082        76\n",
      "          7    0.84615   0.84615   0.84615        65\n",
      "          8    0.75309   0.78205   0.76730        78\n",
      "          9    0.81944   0.79730   0.80822        74\n",
      "\n",
      "avg / total    0.85312   0.85257   0.85194       719\n",
      "\n",
      "\n",
      "\n"
     ]
    }
   ],
   "source": [
    "scores = ['precision', 'recall']\n",
    "\n",
    "for score in scores:\n",
    "    print(\"# Tuning hyper-parameters for %s\" % score)\n",
    "    print '\\n'\n",
    "\n",
    "    clf = GridSearchCV(DecisionTreeClassifier(), param_grid, cv=5,\n",
    "                       scoring='%s_macro' % score)\n",
    "    clf.fit(X_train, y_train)\n",
    "\n",
    "    print(\"Best parameters set found on development set:\")\n",
    "    print '\\n'\n",
    "    print(clf.best_params_)\n",
    "    print '\\n'\n",
    "    print(\"Grid scores on development set:\")\n",
    "    print '\\n'\n",
    "    means = clf.cv_results_['mean_test_score']\n",
    "    stds = clf.cv_results_['std_test_score']\n",
    "    for mean, std, params in zip(means, stds, clf.cv_results_['params']):\n",
    "        print(\"%0.5f (+/-%0.05f) for %r\"\n",
    "              % (mean, std * 2, params))\n",
    "    print '\\n'\n",
    "\n",
    "    print(\"Detailed classification report:\")\n",
    "    print '\\n'\n",
    "    print(\"The model is trained on the full development set.\")\n",
    "    print(\"The scores are computed on the full evaluation set.\")\n",
    "    print '\\n'\n",
    "    y_true, y_pred = y_test, clf.predict(X_test)\n",
    "    print(classification_report(y_true, y_pred, digits=5))\n",
    "    print '\\n'"
   ]
  },
  {
   "cell_type": "code",
   "execution_count": 8,
   "metadata": {
    "collapsed": true,
    "deletable": true,
    "editable": true
   },
   "outputs": [],
   "source": [
    "# now let's try some PCA to reduce the dimension and try to get some better predictors"
   ]
  },
  {
   "cell_type": "code",
   "execution_count": 9,
   "metadata": {
    "collapsed": false,
    "deletable": true,
    "editable": true
   },
   "outputs": [],
   "source": [
    "from sklearn.decomposition import PCA\n",
    "import matplotlib.pyplot as plt\n",
    "%matplotlib inline"
   ]
  },
  {
   "cell_type": "code",
   "execution_count": 10,
   "metadata": {
    "collapsed": false,
    "deletable": true,
    "editable": true
   },
   "outputs": [
    {
     "data": {
      "text/plain": [
       "PCA(copy=True, iterated_power='auto', n_components=50, random_state=None,\n",
       "  svd_solver='auto', tol=0.0, whiten=False)"
      ]
     },
     "execution_count": 10,
     "metadata": {},
     "output_type": "execute_result"
    }
   ],
   "source": [
    "nComp = 50\n",
    "pca = PCA(n_components=nComp)\n",
    "pca.fit(X_test)"
   ]
  },
  {
   "cell_type": "code",
   "execution_count": 11,
   "metadata": {
    "collapsed": false,
    "deletable": true,
    "editable": true
   },
   "outputs": [
    {
     "data": {
      "image/png": "[encoded data removed]",
      "text/plain": [
       "<matplotlib.figure.Figure at 0x1138fa5d0>"
      ]
     },
     "metadata": {},
     "output_type": "display_data"
    }
   ],
   "source": [
    "# let's look at the top principal components\n",
    "nPC = 8\n",
    "for index in range(nPC):\n",
    "    plt.subplot(2, nPC, index + 1)\n",
    "    plt.axis('off')\n",
    "    plt.imshow(pca.components_[index].reshape(8,8), cmap=plt.cm.gray_r, interpolation='nearest')\n",
    "    plt.title('PC # %i' % index)"
   ]
  },
  {
   "cell_type": "code",
   "execution_count": 12,
   "metadata": {
    "collapsed": false,
    "deletable": true,
    "editable": true
   },
   "outputs": [
    {
     "data": {
      "text/plain": [
       "[<matplotlib.lines.Line2D at 0x112dcf850>]"
      ]
     },
     "execution_count": 12,
     "metadata": {},
     "output_type": "execute_result"
    },
    {
     "data": {
      "image/png": "[encoded data removed]",
      "text/plain": [
       "<matplotlib.figure.Figure at 0x113986ed0>"
      ]
     },
     "metadata": {},
     "output_type": "display_data"
    }
   ],
   "source": [
    "# let's see how much variance we capture with each component\n",
    "comp_range = range(1,nComp+1)\n",
    "plt.plot(comp_range,pca.explained_variance_)"
   ]
  },
  {
   "cell_type": "markdown",
   "metadata": {
    "deletable": true,
    "editable": true
   },
   "source": [
    "From the above plot we see the exponential decay in the explained variance of the model wrt the number of components.  This indicates that much of the information is captured with a much smaller number of pixels than are in the image.  In the numerical analysis parlance, the operator is \"effectively low rank\" i.e. while the matrix representing the measurements may have full rank, the operator can be well approximated in the spectral norm by an operator of lower rank.  So we can use the orthogonal columns of our PCA matrix as this approximant.  It looks like about 20-30 components are enough to explain most of the variance."
   ]
  },
  {
   "cell_type": "code",
   "execution_count": null,
   "metadata": {
    "collapsed": false,
    "deletable": true,
    "editable": true
   },
   "outputs": [
    {
     "name": "stdout",
     "output_type": "stream",
     "text": [
      "reduced training set shape:  (1078, 30)\n",
      "full training set shape:  (1078, 64)\n"
     ]
    }
   ],
   "source": [
    "nComp = 30\n",
    "pca = PCA(n_components=nComp)\n",
    "pca.fit(X_test)\n",
    "\n",
    "X_train_reduced = pca.transform(X_train)\n",
    "X_test_reduced = pca.transform(X_test)\n",
    "print \"reduced training set shape: \", X_train_reduced.shape\n",
    "print \"full training set shape: \", X_train.shape"
   ]
  },
  {
   "cell_type": "code",
   "execution_count": null,
   "metadata": {
    "collapsed": false,
    "deletable": true,
    "editable": true
   },
   "outputs": [
    {
     "name": "stdout",
     "output_type": "stream",
     "text": [
      "# Tuning hyper-parameters for precision\n",
      "\n",
      "\n",
      "Best parameters set found on development set:\n",
      "\n",
      "\n",
      "{'max_features': None, 'criterion': 'entropy', 'max_depth': 64, 'class_weight': None}\n",
      "\n",
      "\n",
      "Grid scores on development set:\n",
      "\n",
      "\n",
      "0.04950 (+/-0.02068) for {'max_features': 'auto', 'criterion': 'gini', 'max_depth': 1, 'class_weight': 'balanced'}\n",
      "0.04900 (+/-0.01177) for {'max_features': 'sqrt', 'criterion': 'gini', 'max_depth': 1, 'class_weight': 'balanced'}\n",
      "0.05259 (+/-0.02078) for {'max_features': 'log2', 'criterion': 'gini', 'max_depth': 1, 'class_weight': 'balanced'}\n",
      "0.05267 (+/-0.00370) for {'max_features': None, 'criterion': 'gini', 'max_depth': 1, 'class_weight': 'balanced'}\n",
      "0.16419 (+/-0.07703) for {'max_features': 'auto', 'criterion': 'gini', 'max_depth': 2, 'class_weight': 'balanced'}\n",
      "0.13781 (+/-0.10589) for {'max_features': 'sqrt', 'criterion': 'gini', 'max_depth': 2, 'class_weight': 'balanced'}\n",
      "0.17033 (+/-0.07535) for {'max_features': 'log2', 'criterion': 'gini', 'max_depth': 2, 'class_weight': 'balanced'}\n",
      "0.23005 (+/-0.02849) for {'max_features': None, 'criterion': 'gini', 'max_depth': 2, 'class_weight': 'balanced'}\n",
      "0.41116 (+/-0.20345) for {'max_features': 'auto', 'criterion': 'gini', 'max_depth': 4, 'class_weight': 'balanced'}\n",
      "0.51935 (+/-0.24262) for {'max_features': 'sqrt', 'criterion': 'gini', 'max_depth': 4, 'class_weight': 'balanced'}\n",
      "0.49542 (+/-0.09237) for {'max_features': 'log2', 'criterion': 'gini', 'max_depth': 4, 'class_weight': 'balanced'}\n",
      "0.65110 (+/-0.15836) for {'max_features': None, 'criterion': 'gini', 'max_depth': 4, 'class_weight': 'balanced'}\n",
      "0.67578 (+/-0.12312) for {'max_features': 'auto', 'criterion': 'gini', 'max_depth': 8, 'class_weight': 'balanced'}\n",
      "0.70908 (+/-0.09505) for {'max_features': 'sqrt', 'criterion': 'gini', 'max_depth': 8, 'class_weight': 'balanced'}\n",
      "0.65310 (+/-0.11378) for {'max_features': 'log2', 'criterion': 'gini', 'max_depth': 8, 'class_weight': 'balanced'}\n",
      "0.81206 (+/-0.03033) for {'max_features': None, 'criterion': 'gini', 'max_depth': 8, 'class_weight': 'balanced'}\n",
      "0.73199 (+/-0.05890) for {'max_features': 'auto', 'criterion': 'gini', 'max_depth': 16, 'class_weight': 'balanced'}\n",
      "0.71127 (+/-0.12395) for {'max_features': 'sqrt', 'criterion': 'gini', 'max_depth': 16, 'class_weight': 'balanced'}\n",
      "0.69338 (+/-0.13048) for {'max_features': 'log2', 'criterion': 'gini', 'max_depth': 16, 'class_weight': 'balanced'}\n",
      "0.81336 (+/-0.06517) for {'max_features': None, 'criterion': 'gini', 'max_depth': 16, 'class_weight': 'balanced'}\n",
      "0.72131 (+/-0.11982) for {'max_features': 'auto', 'criterion': 'gini', 'max_depth': 32, 'class_weight': 'balanced'}\n",
      "0.75334 (+/-0.03462) for {'max_features': 'sqrt', 'criterion': 'gini', 'max_depth': 32, 'class_weight': 'balanced'}\n",
      "0.70630 (+/-0.06560) for {'max_features': 'log2', 'criterion': 'gini', 'max_depth': 32, 'class_weight': 'balanced'}\n",
      "0.81733 (+/-0.07841) for {'max_features': None, 'criterion': 'gini', 'max_depth': 32, 'class_weight': 'balanced'}\n",
      "0.71441 (+/-0.08780) for {'max_features': 'auto', 'criterion': 'gini', 'max_depth': 64, 'class_weight': 'balanced'}\n",
      "0.74061 (+/-0.06937) for {'max_features': 'sqrt', 'criterion': 'gini', 'max_depth': 64, 'class_weight': 'balanced'}\n",
      "0.73163 (+/-0.08498) for {'max_features': 'log2', 'criterion': 'gini', 'max_depth': 64, 'class_weight': 'balanced'}\n",
      "0.82504 (+/-0.06566) for {'max_features': None, 'criterion': 'gini', 'max_depth': 64, 'class_weight': 'balanced'}\n",
      "0.03637 (+/-0.00349) for {'max_features': 'auto', 'criterion': 'entropy', 'max_depth': 1, 'class_weight': 'balanced'}\n",
      "0.03918 (+/-0.00640) for {'max_features': 'sqrt', 'criterion': 'entropy', 'max_depth': 1, 'class_weight': 'balanced'}\n",
      "0.04217 (+/-0.02069) for {'max_features': 'log2', 'criterion': 'entropy', 'max_depth': 1, 'class_weight': 'balanced'}\n",
      "0.05223 (+/-0.00313) for {'max_features': None, 'criterion': 'entropy', 'max_depth': 1, 'class_weight': 'balanced'}\n",
      "0.14435 (+/-0.05795) for {'max_features': 'auto', 'criterion': 'entropy', 'max_depth': 2, 'class_weight': 'balanced'}\n",
      "0.13237 (+/-0.03638) for {'max_features': 'sqrt', 'criterion': 'entropy', 'max_depth': 2, 'class_weight': 'balanced'}\n",
      "0.11974 (+/-0.03625) for {'max_features': 'log2', 'criterion': 'entropy', 'max_depth': 2, 'class_weight': 'balanced'}\n",
      "0.21449 (+/-0.00702) for {'max_features': None, 'criterion': 'entropy', 'max_depth': 2, 'class_weight': 'balanced'}\n",
      "0.51247 (+/-0.20310) for {'max_features': 'auto', 'criterion': 'entropy', 'max_depth': 4, 'class_weight': 'balanced'}\n",
      "0.43055 (+/-0.09067) for {'max_features': 'sqrt', 'criterion': 'entropy', 'max_depth': 4, 'class_weight': 'balanced'}\n",
      "0.49027 (+/-0.15367) for {'max_features': 'log2', 'criterion': 'entropy', 'max_depth': 4, 'class_weight': 'balanced'}\n",
      "0.61158 (+/-0.06608) for {'max_features': None, 'criterion': 'entropy', 'max_depth': 4, 'class_weight': 'balanced'}\n",
      "0.71822 (+/-0.03646) for {'max_features': 'auto', 'criterion': 'entropy', 'max_depth': 8, 'class_weight': 'balanced'}\n",
      "0.68459 (+/-0.11445) for {'max_features': 'sqrt', 'criterion': 'entropy', 'max_depth': 8, 'class_weight': 'balanced'}\n",
      "0.68847 (+/-0.04938) for {'max_features': 'log2', 'criterion': 'entropy', 'max_depth': 8, 'class_weight': 'balanced'}\n",
      "0.82652 (+/-0.03971) for {'max_features': None, 'criterion': 'entropy', 'max_depth': 8, 'class_weight': 'balanced'}\n",
      "0.71890 (+/-0.07451) for {'max_features': 'auto', 'criterion': 'entropy', 'max_depth': 16, 'class_weight': 'balanced'}\n",
      "0.73841 (+/-0.07220) for {'max_features': 'sqrt', 'criterion': 'entropy', 'max_depth': 16, 'class_weight': 'balanced'}\n",
      "0.69850 (+/-0.05030) for {'max_features': 'log2', 'criterion': 'entropy', 'max_depth': 16, 'class_weight': 'balanced'}\n",
      "0.82376 (+/-0.06100) for {'max_features': None, 'criterion': 'entropy', 'max_depth': 16, 'class_weight': 'balanced'}\n",
      "0.75944 (+/-0.05644) for {'max_features': 'auto', 'criterion': 'entropy', 'max_depth': 32, 'class_weight': 'balanced'}\n",
      "0.73750 (+/-0.07655) for {'max_features': 'sqrt', 'criterion': 'entropy', 'max_depth': 32, 'class_weight': 'balanced'}\n",
      "0.70335 (+/-0.04420) for {'max_features': 'log2', 'criterion': 'entropy', 'max_depth': 32, 'class_weight': 'balanced'}\n",
      "0.82348 (+/-0.06282) for {'max_features': None, 'criterion': 'entropy', 'max_depth': 32, 'class_weight': 'balanced'}\n",
      "0.70093 (+/-0.08424) for {'max_features': 'auto', 'criterion': 'entropy', 'max_depth': 64, 'class_weight': 'balanced'}\n",
      "0.72507 (+/-0.05133) for {'max_features': 'sqrt', 'criterion': 'entropy', 'max_depth': 64, 'class_weight': 'balanced'}\n",
      "0.71381 (+/-0.07596) for {'max_features': 'log2', 'criterion': 'entropy', 'max_depth': 64, 'class_weight': 'balanced'}\n",
      "0.82256 (+/-0.05678) for {'max_features': None, 'criterion': 'entropy', 'max_depth': 64, 'class_weight': 'balanced'}\n",
      "0.05046 (+/-0.02263) for {'max_features': 'auto', 'criterion': 'gini', 'max_depth': 1, 'class_weight': None}\n",
      "0.04654 (+/-0.02799) for {'max_features': 'sqrt', 'criterion': 'gini', 'max_depth': 1, 'class_weight': None}\n",
      "0.04654 (+/-0.01042) for {'max_features': 'log2', 'criterion': 'gini', 'max_depth': 1, 'class_weight': None}\n",
      "0.05719 (+/-0.00540) for {'max_features': None, 'criterion': 'gini', 'max_depth': 1, 'class_weight': None}\n",
      "0.15161 (+/-0.04862) for {'max_features': 'auto', 'criterion': 'gini', 'max_depth': 2, 'class_weight': None}\n",
      "0.14163 (+/-0.06283) for {'max_features': 'sqrt', 'criterion': 'gini', 'max_depth': 2, 'class_weight': None}\n",
      "0.14654 (+/-0.02899) for {'max_features': 'log2', 'criterion': 'gini', 'max_depth': 2, 'class_weight': None}\n",
      "0.22677 (+/-0.01865) for {'max_features': None, 'criterion': 'gini', 'max_depth': 2, 'class_weight': None}\n",
      "0.50477 (+/-0.11476) for {'max_features': 'auto', 'criterion': 'gini', 'max_depth': 4, 'class_weight': None}\n",
      "0.45974 (+/-0.21986) for {'max_features': 'sqrt', 'criterion': 'gini', 'max_depth': 4, 'class_weight': None}\n",
      "0.45111 (+/-0.06550) for {'max_features': 'log2', 'criterion': 'gini', 'max_depth': 4, 'class_weight': None}\n",
      "0.68409 (+/-0.18284) for {'max_features': None, 'criterion': 'gini', 'max_depth': 4, 'class_weight': None}\n",
      "0.72412 (+/-0.08011) for {'max_features': 'auto', 'criterion': 'gini', 'max_depth': 8, 'class_weight': None}\n",
      "0.65062 (+/-0.11542) for {'max_features': 'sqrt', 'criterion': 'gini', 'max_depth': 8, 'class_weight': None}\n",
      "0.66527 (+/-0.08930) for {'max_features': 'log2', 'criterion': 'gini', 'max_depth': 8, 'class_weight': None}\n",
      "0.82911 (+/-0.05155) for {'max_features': None, 'criterion': 'gini', 'max_depth': 8, 'class_weight': None}\n",
      "0.68491 (+/-0.04872) for {'max_features': 'auto', 'criterion': 'gini', 'max_depth': 16, 'class_weight': None}\n",
      "0.71751 (+/-0.06348) for {'max_features': 'sqrt', 'criterion': 'gini', 'max_depth': 16, 'class_weight': None}\n",
      "0.67571 (+/-0.07852) for {'max_features': 'log2', 'criterion': 'gini', 'max_depth': 16, 'class_weight': None}\n",
      "0.81788 (+/-0.03439) for {'max_features': None, 'criterion': 'gini', 'max_depth': 16, 'class_weight': None}\n",
      "0.71475 (+/-0.06617) for {'max_features': 'auto', 'criterion': 'gini', 'max_depth': 32, 'class_weight': None}\n",
      "0.71211 (+/-0.08711) for {'max_features': 'sqrt', 'criterion': 'gini', 'max_depth': 32, 'class_weight': None}\n",
      "0.70152 (+/-0.05926) for {'max_features': 'log2', 'criterion': 'gini', 'max_depth': 32, 'class_weight': None}\n",
      "0.82641 (+/-0.04151) for {'max_features': None, 'criterion': 'gini', 'max_depth': 32, 'class_weight': None}\n",
      "0.70244 (+/-0.05464) for {'max_features': 'auto', 'criterion': 'gini', 'max_depth': 64, 'class_weight': None}\n",
      "0.69662 (+/-0.13467) for {'max_features': 'sqrt', 'criterion': 'gini', 'max_depth': 64, 'class_weight': None}\n",
      "0.71522 (+/-0.05486) for {'max_features': 'log2', 'criterion': 'gini', 'max_depth': 64, 'class_weight': None}\n",
      "0.83001 (+/-0.05132) for {'max_features': None, 'criterion': 'gini', 'max_depth': 64, 'class_weight': None}\n",
      "0.04087 (+/-0.00420) for {'max_features': 'auto', 'criterion': 'entropy', 'max_depth': 1, 'class_weight': None}\n",
      "0.04420 (+/-0.01534) for {'max_features': 'sqrt', 'criterion': 'entropy', 'max_depth': 1, 'class_weight': None}\n",
      "0.04307 (+/-0.01157) for {'max_features': 'log2', 'criterion': 'entropy', 'max_depth': 1, 'class_weight': None}\n",
      "0.05562 (+/-0.00424) for {'max_features': None, 'criterion': 'entropy', 'max_depth': 1, 'class_weight': None}\n",
      "0.14929 (+/-0.08958) for {'max_features': 'auto', 'criterion': 'entropy', 'max_depth': 2, 'class_weight': None}\n",
      "0.16443 (+/-0.04261) for {'max_features': 'sqrt', 'criterion': 'entropy', 'max_depth': 2, 'class_weight': None}\n",
      "0.14543 (+/-0.09443) for {'max_features': 'log2', 'criterion': 'entropy', 'max_depth': 2, 'class_weight': None}\n",
      "0.21371 (+/-0.00718) for {'max_features': None, 'criterion': 'entropy', 'max_depth': 2, 'class_weight': None}\n",
      "0.46191 (+/-0.09175) for {'max_features': 'auto', 'criterion': 'entropy', 'max_depth': 4, 'class_weight': None}\n",
      "0.51839 (+/-0.09624) for {'max_features': 'sqrt', 'criterion': 'entropy', 'max_depth': 4, 'class_weight': None}\n",
      "0.49043 (+/-0.18445) for {'max_features': 'log2', 'criterion': 'entropy', 'max_depth': 4, 'class_weight': None}\n",
      "0.61964 (+/-0.08814) for {'max_features': None, 'criterion': 'entropy', 'max_depth': 4, 'class_weight': None}\n",
      "0.75160 (+/-0.04227) for {'max_features': 'auto', 'criterion': 'entropy', 'max_depth': 8, 'class_weight': None}\n",
      "0.69741 (+/-0.09647) for {'max_features': 'sqrt', 'criterion': 'entropy', 'max_depth': 8, 'class_weight': None}\n",
      "0.68038 (+/-0.05556) for {'max_features': 'log2', 'criterion': 'entropy', 'max_depth': 8, 'class_weight': None}\n",
      "0.81291 (+/-0.04155) for {'max_features': None, 'criterion': 'entropy', 'max_depth': 8, 'class_weight': None}\n",
      "0.71871 (+/-0.07402) for {'max_features': 'auto', 'criterion': 'entropy', 'max_depth': 16, 'class_weight': None}\n",
      "0.72338 (+/-0.08767) for {'max_features': 'sqrt', 'criterion': 'entropy', 'max_depth': 16, 'class_weight': None}\n",
      "0.68683 (+/-0.06548) for {'max_features': 'log2', 'criterion': 'entropy', 'max_depth': 16, 'class_weight': None}\n",
      "0.82132 (+/-0.06439) for {'max_features': None, 'criterion': 'entropy', 'max_depth': 16, 'class_weight': None}\n",
      "0.70397 (+/-0.08413) for {'max_features': 'auto', 'criterion': 'entropy', 'max_depth': 32, 'class_weight': None}\n",
      "0.69264 (+/-0.05390) for {'max_features': 'sqrt', 'criterion': 'entropy', 'max_depth': 32, 'class_weight': None}\n",
      "0.69777 (+/-0.05773) for {'max_features': 'log2', 'criterion': 'entropy', 'max_depth': 32, 'class_weight': None}\n",
      "0.82837 (+/-0.05841) for {'max_features': None, 'criterion': 'entropy', 'max_depth': 32, 'class_weight': None}\n",
      "0.73835 (+/-0.11648) for {'max_features': 'auto', 'criterion': 'entropy', 'max_depth': 64, 'class_weight': None}\n",
      "0.75724 (+/-0.05476) for {'max_features': 'sqrt', 'criterion': 'entropy', 'max_depth': 64, 'class_weight': None}\n",
      "0.69772 (+/-0.01418) for {'max_features': 'log2', 'criterion': 'entropy', 'max_depth': 64, 'class_weight': None}\n",
      "0.83572 (+/-0.04834) for {'max_features': None, 'criterion': 'entropy', 'max_depth': 64, 'class_weight': None}\n",
      "\n",
      "\n",
      "Detailed classification report:\n",
      "\n",
      "\n",
      "The model is trained on the full development set.\n",
      "The scores are computed on the full evaluation set.\n",
      "\n",
      "\n",
      "             precision    recall  f1-score   support\n",
      "\n",
      "          0    0.90769   0.98333   0.94400        60\n",
      "          1    0.80556   0.79452   0.80000        73\n",
      "          2    0.80597   0.76056   0.78261        71\n",
      "          3    0.69841   0.62857   0.66165        70\n",
      "          4    0.86765   0.93651   0.90076        63\n",
      "          5    0.92593   0.84270   0.88235        89\n",
      "          6    0.87952   0.96053   0.91824        76\n",
      "          7    0.90769   0.90769   0.90769        65\n",
      "          8    0.70000   0.62821   0.66216        78\n",
      "          9    0.65882   0.75676   0.70440        74\n",
      "\n",
      "avg / total    0.81453   0.81502   0.81330       719\n",
      "\n",
      "\n",
      "\n",
      "# Tuning hyper-parameters for recall\n",
      "\n",
      "\n"
     ]
    }
   ],
   "source": [
    "param_grid = [\n",
    "  {'class_weight': [\"balanced\", None], 'criterion': ['gini', 'entropy'], \n",
    "   'max_features': [\"auto\", \"sqrt\", \"log2\", None], 'max_depth': [1, 2, 4, 8, 16, 32, 64]},\n",
    " ]\n",
    "\n",
    "scores = ['precision', 'recall']\n",
    "\n",
    "for score in scores:\n",
    "    print(\"# Tuning hyper-parameters for %s\" % score)\n",
    "    print '\\n'\n",
    "\n",
    "    clf = GridSearchCV(DecisionTreeClassifier(), param_grid, cv=5,\n",
    "                       scoring='%s_macro' % score)\n",
    "    clf.fit(X_train_reduced, y_train)\n",
    "\n",
    "    print(\"Best parameters set found on development set:\")\n",
    "    print '\\n'\n",
    "    print(clf.best_params_)\n",
    "    print '\\n'\n",
    "    print(\"Grid scores on development set:\")\n",
    "    print '\\n'\n",
    "    means = clf.cv_results_['mean_test_score']\n",
    "    stds = clf.cv_results_['std_test_score']\n",
    "    for mean, std, params in zip(means, stds, clf.cv_results_['params']):\n",
    "        print(\"%0.5f (+/-%0.05f) for %r\"\n",
    "              % (mean, std * 2, params))\n",
    "    print '\\n'\n",
    "\n",
    "    print(\"Detailed classification report:\")\n",
    "    print '\\n'\n",
    "    print(\"The model is trained on the full development set.\")\n",
    "    print(\"The scores are computed on the full evaluation set.\")\n",
    "    print '\\n'\n",
    "    y_true, y_pred = y_test, clf.predict(X_test_reduced)\n",
    "    print(classification_report(y_true, y_pred, digits=5))\n",
    "    print '\\n'"
   ]
  },
  {
   "cell_type": "markdown",
   "metadata": {
    "deletable": true,
    "editable": true
   },
   "source": [
    "So it is interesting that with the reduced training set we don't do any better (and actually a little worse) with our predictions.   Hmmm....\n",
    "\n",
    "Let's see if we can gain some insigt from the confusion matrix"
   ]
  },
  {
   "cell_type": "code",
   "execution_count": null,
   "metadata": {
    "collapsed": false,
    "deletable": true,
    "editable": true
   },
   "outputs": [],
   "source": [
    "expected = y_test\n",
    "predicted = clf.predict(X_test_reduced)\n",
    "print(\"Classification report for classifier %s:\\n%s\\n\"\n",
    "      % (clf, classification_report(expected, predicted, digits=5)))\n",
    "print(\"Confusion matrix:\\n%s\" % confusion_matrix(expected, predicted))"
   ]
  },
  {
   "cell_type": "markdown",
   "metadata": {
    "deletable": true,
    "editable": true
   },
   "source": [
    "It seems we do worst on the digits 1, 2, 3, 4, 8 and 9.  Maybe we can use a random forest for boosting to increase our accuracy.  First let's see if the worst classes are underrepresented - the class imbalance may be to explain."
   ]
  },
  {
   "cell_type": "code",
   "execution_count": null,
   "metadata": {
    "collapsed": false,
    "deletable": true,
    "editable": true
   },
   "outputs": [],
   "source": [
    "values, counts = np.unique(y_train, return_counts=True)\n",
    "print values.T\n",
    "print counts.T"
   ]
  },
  {
   "cell_type": "markdown",
   "metadata": {
    "deletable": true,
    "editable": true
   },
   "source": [
    "Not really, they're all in the same ballpark, so it seems to be something else"
   ]
  },
  {
   "cell_type": "code",
   "execution_count": null,
   "metadata": {
    "collapsed": true,
    "deletable": true,
    "editable": true
   },
   "outputs": [],
   "source": [
    "from sklearn.ensemble import RandomForestClassifier"
   ]
  },
  {
   "cell_type": "code",
   "execution_count": null,
   "metadata": {
    "collapsed": true,
    "deletable": true,
    "editable": true
   },
   "outputs": [],
   "source": [
    "clf = RandomForestClassifier()"
   ]
  },
  {
   "cell_type": "code",
   "execution_count": null,
   "metadata": {
    "collapsed": false,
    "deletable": true,
    "editable": true
   },
   "outputs": [],
   "source": [
    "clf.get_params()"
   ]
  },
  {
   "cell_type": "code",
   "execution_count": null,
   "metadata": {
    "collapsed": false,
    "deletable": true,
    "editable": true
   },
   "outputs": [],
   "source": [
    "param_grid = [\n",
    "  {'class_weight': [\"balanced\", None], 'criterion': ['gini', 'entropy'], \n",
    "   'max_features': [\"auto\", \"sqrt\", \"log2\", None], 'max_depth': [1, 2, 4, 8, 16, 32, 64],\n",
    "   'n_estimators': [2, 4, 8, 16, 32, 64, 10],\n",
    "  }\n",
    " ]\n",
    "\n",
    "scores = ['precision', 'recall']\n",
    "\n",
    "for score in scores:\n",
    "    print(\"# Tuning hyper-parameters for %s\" % score)\n",
    "    print '\\n'\n",
    "\n",
    "    clf = GridSearchCV(RandomForestClassifier(), param_grid, cv=5,\n",
    "                       scoring='%s_macro' % score)\n",
    "    clf.fit(X_train, y_train)\n",
    "\n",
    "    print(\"Best parameters set found on development set:\")\n",
    "    print '\\n'\n",
    "    print(clf.best_params_)\n",
    "    print '\\n'\n",
    "    print(\"Grid scores on development set:\")\n",
    "    print '\\n'\n",
    "    means = clf.cv_results_['mean_test_score']\n",
    "    stds = clf.cv_results_['std_test_score']\n",
    "    for mean, std, params in zip(means, stds, clf.cv_results_['params']):\n",
    "        print(\"%0.5f (+/-%0.05f) for %r\"\n",
    "              % (mean, std * 2, params))\n",
    "    print '\\n'\n",
    "\n",
    "    print(\"Detailed classification report:\")\n",
    "    print '\\n'\n",
    "    print(\"The model is trained on the full development set.\")\n",
    "    print(\"The scores are computed on the full evaluation set.\")\n",
    "    print '\\n'\n",
    "    y_true, y_pred = y_test, clf.predict(X_test)\n",
    "    print(classification_report(y_true, y_pred, digits=5))\n",
    "    print '\\n'"
   ]
  },
  {
   "cell_type": "markdown",
   "metadata": {
    "deletable": true,
    "editable": true
   },
   "source": [
    "This took forever to train, and still isn't that accurate.  Hmmmm.  What if we pair it with PCA?"
   ]
  },
  {
   "cell_type": "code",
   "execution_count": null,
   "metadata": {
    "collapsed": false,
    "deletable": true,
    "editable": true
   },
   "outputs": [],
   "source": [
    "nComp = 20\n",
    "pca = PCA(n_components=nComp)\n",
    "pca.fit(X_test)\n",
    "\n",
    "X_train_reduced = pca.transform(X_train)\n",
    "X_test_reduced = pca.transform(X_test)\n",
    "print \"reduced training set shape: \", X_train_reduced.shape\n",
    "print \"full training set shape: \", X_train.shape\n",
    "\n",
    "param_grid = [\n",
    "  {'class_weight': [\"balanced\", None], 'criterion': ['gini', 'entropy'], \n",
    "   'max_features': [\"auto\", \"sqrt\", \"log2\", None], 'max_depth': [1, 2, 4, 8, 16],\n",
    "   'n_estimators': [2, 4, 8, 10, 16],\n",
    "  }\n",
    " ]\n",
    "\n",
    "scores = ['precision', 'recall']\n",
    "\n",
    "for score in scores:\n",
    "    print(\"# Tuning hyper-parameters for %s\" % score)\n",
    "    print '\\n'\n",
    "\n",
    "    clf = GridSearchCV(RandomForestClassifier(), param_grid, cv=5,\n",
    "                       scoring='%s_macro' % score)\n",
    "    clf.fit(X_train_reduced, y_train)\n",
    "\n",
    "    print(\"Best parameters set found on development set:\")\n",
    "    print '\\n'\n",
    "    print(clf.best_params_)\n",
    "    print '\\n'\n",
    "    print(\"Grid scores on development set:\")\n",
    "    print '\\n'\n",
    "    means = clf.cv_results_['mean_test_score']\n",
    "    stds = clf.cv_results_['std_test_score']\n",
    "    for mean, std, params in zip(means, stds, clf.cv_results_['params']):\n",
    "        print(\"%0.5f (+/-%0.05f) for %r\"\n",
    "              % (mean, std * 2, params))\n",
    "    print '\\n'\n",
    "\n",
    "    print(\"Detailed classification report:\")\n",
    "    print '\\n'\n",
    "    print(\"The model is trained on the full development set.\")\n",
    "    print(\"The scores are computed on the full evaluation set.\")\n",
    "    print '\\n'\n",
    "    y_true, y_pred = y_test, clf.predict(X_test_reduced)\n",
    "    print(classification_report(y_true, y_pred, digits=5))\n",
    "    print '\\n'"
   ]
  },
  {
   "cell_type": "markdown",
   "metadata": {
    "deletable": true,
    "editable": true
   },
   "source": [
    "A lot faster, a little less accurate.  Much to learn!\n",
    "\n",
    "What if we train a tree just to recognize one class?"
   ]
  }
 ],
 "metadata": {
  "kernelspec": {
   "display_name": "Python 2",
   "language": "python",
   "name": "python2"
  },
  "language_info": {
   "codemirror_mode": {
    "name": "ipython",
    "version": 2
   },
   "file_extension": ".py",
   "mimetype": "text/x-python",
   "name": "python",
   "nbconvert_exporter": "python",
   "pygments_lexer": "ipython2",
   "version": "2.7.12"
  }
 },
 "nbformat": 4,
 "nbformat_minor": 2
}
