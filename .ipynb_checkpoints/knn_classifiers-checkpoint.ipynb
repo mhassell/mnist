{
 "cells": [
  {
   "cell_type": "markdown",
   "metadata": {
    "deletable": true,
    "editable": true
   },
   "source": [
    "This is trying out KNN classifiers for the MNIST data set"
   ]
  },
  {
   "cell_type": "code",
   "execution_count": 15,
   "metadata": {
    "collapsed": true,
    "deletable": true,
    "editable": true
   },
   "outputs": [],
   "source": [
    "from sklearn.model_selection import train_test_split\n",
    "from sklearn.neighbors import KNeighborsClassifier\n",
    "from sklearn import datasets\n",
    "from sklearn.metrics import classification_report, confusion_matrix"
   ]
  },
  {
   "cell_type": "code",
   "execution_count": 16,
   "metadata": {
    "collapsed": false,
    "deletable": true,
    "editable": true
   },
   "outputs": [],
   "source": [
    "digits = datasets.load_digits()\n",
    "\n",
    "n_samples = len(digits.images)\n",
    "data = digits.images.reshape((n_samples, -1))\n",
    "\n",
    "X_train, X_test, y_train, y_test = train_test_split(digits.images, digits.target, \\\n",
    "                                                    test_size=.4, random_state=0)"
   ]
  },
  {
   "cell_type": "code",
   "execution_count": 17,
   "metadata": {
    "collapsed": false,
    "deletable": true,
    "editable": true
   },
   "outputs": [],
   "source": [
    "# defaults to 5 neighbors for now\n",
    "clf = KNeighborsClassifier()\n",
    "X_train = X_train.reshape(X_train.shape[0],64)\n",
    "X_test = X_test.reshape(X_test.shape[0],64)"
   ]
  },
  {
   "cell_type": "code",
   "execution_count": 18,
   "metadata": {
    "collapsed": false,
    "deletable": true,
    "editable": true
   },
   "outputs": [
    {
     "data": {
      "text/plain": [
       "KNeighborsClassifier(algorithm='auto', leaf_size=30, metric='minkowski',\n",
       "           metric_params=None, n_jobs=1, n_neighbors=5, p=2,\n",
       "           weights='uniform')"
      ]
     },
     "execution_count": 18,
     "metadata": {},
     "output_type": "execute_result"
    }
   ],
   "source": [
    "clf.fit(X_train, y_train)"
   ]
  },
  {
   "cell_type": "code",
   "execution_count": 19,
   "metadata": {
    "collapsed": false,
    "deletable": true,
    "editable": true
   },
   "outputs": [
    {
     "name": "stdout",
     "output_type": "stream",
     "text": [
      "Classification report for classifier KNeighborsClassifier(algorithm='auto', leaf_size=30, metric='minkowski',\n",
      "           metric_params=None, n_jobs=1, n_neighbors=5, p=2,\n",
      "           weights='uniform'):\n",
      "             precision    recall  f1-score   support\n",
      "\n",
      "          0    1.00000   1.00000   1.00000        60\n",
      "          1    0.93590   1.00000   0.96689        73\n",
      "          2    0.98592   0.98592   0.98592        71\n",
      "          3    0.95833   0.98571   0.97183        70\n",
      "          4    1.00000   0.98413   0.99200        63\n",
      "          5    0.98864   0.97753   0.98305        89\n",
      "          6    0.98701   1.00000   0.99346        76\n",
      "          7    0.97015   1.00000   0.98485        65\n",
      "          8    1.00000   0.89744   0.94595        78\n",
      "          9    0.97297   0.97297   0.97297        74\n",
      "\n",
      "avg / total    0.97978   0.97914   0.97900       719\n",
      "\n",
      "\n",
      "Confusion matrix:\n",
      "[[60  0  0  0  0  0  0  0  0  0]\n",
      " [ 0 73  0  0  0  0  0  0  0  0]\n",
      " [ 0  0 70  0  0  0  0  1  0  0]\n",
      " [ 0  0  1 69  0  0  0  0  0  0]\n",
      " [ 0  0  0  0 62  0  0  1  0  0]\n",
      " [ 0  0  0  0  0 87  1  0  0  1]\n",
      " [ 0  0  0  0  0  0 76  0  0  0]\n",
      " [ 0  0  0  0  0  0  0 65  0  0]\n",
      " [ 0  5  0  2  0  0  0  0 70  1]\n",
      " [ 0  0  0  1  0  1  0  0  0 72]]\n"
     ]
    }
   ],
   "source": [
    "# we get about 98% with just vanilla 5-NN classification\n",
    "expected = y_test\n",
    "predicted = clf.predict(X_test)\n",
    "print(\"Classification report for classifier %s:\\n%s\\n\"\n",
    "      % (clf, classification_report(expected, predicted, digits=5)))\n",
    "print(\"Confusion matrix:\\n%s\" % confusion_matrix(expected, predicted))"
   ]
  },
  {
   "cell_type": "code",
   "execution_count": 20,
   "metadata": {
    "collapsed": false,
    "deletable": true,
    "editable": true
   },
   "outputs": [
    {
     "name": "stdout",
     "output_type": "stream",
     "text": [
      "{'n_neighbors': 5, 'n_jobs': 1, 'algorithm': 'auto', 'metric': 'minkowski', 'metric_params': None, 'p': 2, 'weights': 'uniform', 'leaf_size': 30}\n"
     ]
    }
   ],
   "source": [
    "# look at all the parameters associated to KNN\n",
    "print clf.get_params()\n"
   ]
  },
  {
   "cell_type": "code",
   "execution_count": 21,
   "metadata": {
    "collapsed": true,
    "deletable": true,
    "editable": true
   },
   "outputs": [],
   "source": [
    "# now lets try some hyperparameter tuning\n",
    "param_grid = [\n",
    "  {'n_neighbors': [2, 4, 8, 16], 'weights': ['uniform', 'distance']},\n",
    "  {'n_neighbors': [2, 4, 8, 16], 'weights': ['uniform', 'distance'], 'p': [1, 2]},\n",
    " ]"
   ]
  },
  {
   "cell_type": "code",
   "execution_count": 22,
   "metadata": {
    "collapsed": false,
    "deletable": true,
    "editable": true
   },
   "outputs": [
    {
     "name": "stdout",
     "output_type": "stream",
     "text": [
      "# Tuning hyper-parameters for precision\n",
      "\n",
      "\n",
      "Best parameters set found on development set:\n",
      "\n",
      "\n",
      "{'n_neighbors': 2, 'weights': 'distance'}\n",
      "\n",
      "\n",
      "Grid scores on development set:\n",
      "\n",
      "\n",
      "0.97796 (+/-0.02160) for {'n_neighbors': 2, 'weights': 'uniform'}\n",
      "0.98817 (+/-0.02115) for {'n_neighbors': 2, 'weights': 'distance'}\n",
      "0.98271 (+/-0.02461) for {'n_neighbors': 4, 'weights': 'uniform'}\n",
      "0.98520 (+/-0.02394) for {'n_neighbors': 4, 'weights': 'distance'}\n",
      "0.97733 (+/-0.01968) for {'n_neighbors': 8, 'weights': 'uniform'}\n",
      "0.97719 (+/-0.01954) for {'n_neighbors': 8, 'weights': 'distance'}\n",
      "0.96284 (+/-0.03019) for {'n_neighbors': 16, 'weights': 'uniform'}\n",
      "0.96975 (+/-0.02753) for {'n_neighbors': 16, 'weights': 'distance'}\n",
      "0.96927 (+/-0.01807) for {'n_neighbors': 2, 'weights': 'uniform', 'p': 1}\n",
      "0.97708 (+/-0.01954) for {'n_neighbors': 2, 'weights': 'distance', 'p': 1}\n",
      "0.97796 (+/-0.02160) for {'n_neighbors': 2, 'weights': 'uniform', 'p': 2}\n",
      "0.98817 (+/-0.02115) for {'n_neighbors': 2, 'weights': 'distance', 'p': 2}\n",
      "0.97556 (+/-0.01819) for {'n_neighbors': 4, 'weights': 'uniform', 'p': 1}\n",
      "0.98115 (+/-0.02014) for {'n_neighbors': 4, 'weights': 'distance', 'p': 1}\n",
      "0.98271 (+/-0.02461) for {'n_neighbors': 4, 'weights': 'uniform', 'p': 2}\n",
      "0.98520 (+/-0.02394) for {'n_neighbors': 4, 'weights': 'distance', 'p': 2}\n",
      "0.97002 (+/-0.02677) for {'n_neighbors': 8, 'weights': 'uniform', 'p': 1}\n",
      "0.97342 (+/-0.02808) for {'n_neighbors': 8, 'weights': 'distance', 'p': 1}\n",
      "0.97733 (+/-0.01968) for {'n_neighbors': 8, 'weights': 'uniform', 'p': 2}\n",
      "0.97719 (+/-0.01954) for {'n_neighbors': 8, 'weights': 'distance', 'p': 2}\n",
      "0.96312 (+/-0.02764) for {'n_neighbors': 16, 'weights': 'uniform', 'p': 1}\n",
      "0.96752 (+/-0.02743) for {'n_neighbors': 16, 'weights': 'distance', 'p': 1}\n",
      "0.96284 (+/-0.03019) for {'n_neighbors': 16, 'weights': 'uniform', 'p': 2}\n",
      "0.96975 (+/-0.02753) for {'n_neighbors': 16, 'weights': 'distance', 'p': 2}\n",
      "\n",
      "\n",
      "Detailed classification report:\n",
      "\n",
      "\n",
      "The model is trained on the full development set.\n",
      "The scores are computed on the full evaluation set.\n",
      "\n",
      "\n",
      "             precision    recall  f1-score   support\n",
      "\n",
      "          0    1.00000   1.00000   1.00000        60\n",
      "          1    0.97333   1.00000   0.98649        73\n",
      "          2    1.00000   1.00000   1.00000        71\n",
      "          3    0.95890   1.00000   0.97902        70\n",
      "          4    1.00000   1.00000   1.00000        63\n",
      "          5    0.98864   0.97753   0.98305        89\n",
      "          6    0.98701   1.00000   0.99346        76\n",
      "          7    1.00000   1.00000   1.00000        65\n",
      "          8    1.00000   0.94872   0.97368        78\n",
      "          9    0.97260   0.95946   0.96599        74\n",
      "\n",
      "avg / total    0.98769   0.98748   0.98744       719\n",
      "\n",
      "\n",
      "\n",
      "# Tuning hyper-parameters for recall\n",
      "\n",
      "\n",
      "Best parameters set found on development set:\n",
      "\n",
      "\n",
      "{'n_neighbors': 2, 'weights': 'distance'}\n",
      "\n",
      "\n",
      "Grid scores on development set:\n",
      "\n",
      "\n",
      "0.97561 (+/-0.02618) for {'n_neighbors': 2, 'weights': 'uniform'}\n",
      "0.98759 (+/-0.02306) for {'n_neighbors': 2, 'weights': 'distance'}\n",
      "0.98165 (+/-0.02715) for {'n_neighbors': 4, 'weights': 'uniform'}\n",
      "0.98478 (+/-0.02546) for {'n_neighbors': 4, 'weights': 'distance'}\n",
      "0.97621 (+/-0.02018) for {'n_neighbors': 8, 'weights': 'uniform'}\n",
      "0.97639 (+/-0.02037) for {'n_neighbors': 8, 'weights': 'distance'}\n",
      "0.96034 (+/-0.03135) for {'n_neighbors': 16, 'weights': 'uniform'}\n",
      "0.96805 (+/-0.02834) for {'n_neighbors': 16, 'weights': 'distance'}\n",
      "0.96485 (+/-0.02503) for {'n_neighbors': 2, 'weights': 'uniform', 'p': 1}\n",
      "0.97575 (+/-0.02187) for {'n_neighbors': 2, 'weights': 'distance', 'p': 1}\n",
      "0.97561 (+/-0.02618) for {'n_neighbors': 2, 'weights': 'uniform', 'p': 2}\n",
      "0.98759 (+/-0.02306) for {'n_neighbors': 2, 'weights': 'distance', 'p': 2}\n",
      "0.97279 (+/-0.02173) for {'n_neighbors': 4, 'weights': 'uniform', 'p': 1}\n",
      "0.97961 (+/-0.02240) for {'n_neighbors': 4, 'weights': 'distance', 'p': 1}\n",
      "0.98165 (+/-0.02715) for {'n_neighbors': 4, 'weights': 'uniform', 'p': 2}\n",
      "0.98478 (+/-0.02546) for {'n_neighbors': 4, 'weights': 'distance', 'p': 2}\n",
      "0.96668 (+/-0.02887) for {'n_neighbors': 8, 'weights': 'uniform', 'p': 1}\n",
      "0.97052 (+/-0.03087) for {'n_neighbors': 8, 'weights': 'distance', 'p': 1}\n",
      "0.97621 (+/-0.02018) for {'n_neighbors': 8, 'weights': 'uniform', 'p': 2}\n",
      "0.97639 (+/-0.02037) for {'n_neighbors': 8, 'weights': 'distance', 'p': 2}\n",
      "0.95816 (+/-0.03093) for {'n_neighbors': 16, 'weights': 'uniform', 'p': 1}\n",
      "0.96401 (+/-0.03003) for {'n_neighbors': 16, 'weights': 'distance', 'p': 1}\n",
      "0.96034 (+/-0.03135) for {'n_neighbors': 16, 'weights': 'uniform', 'p': 2}\n",
      "0.96805 (+/-0.02834) for {'n_neighbors': 16, 'weights': 'distance', 'p': 2}\n",
      "\n",
      "\n",
      "Detailed classification report:\n",
      "\n",
      "\n",
      "The model is trained on the full development set.\n",
      "The scores are computed on the full evaluation set.\n",
      "\n",
      "\n",
      "             precision    recall  f1-score   support\n",
      "\n",
      "          0    1.00000   1.00000   1.00000        60\n",
      "          1    0.97333   1.00000   0.98649        73\n",
      "          2    1.00000   1.00000   1.00000        71\n",
      "          3    0.95890   1.00000   0.97902        70\n",
      "          4    1.00000   1.00000   1.00000        63\n",
      "          5    0.98864   0.97753   0.98305        89\n",
      "          6    0.98701   1.00000   0.99346        76\n",
      "          7    1.00000   1.00000   1.00000        65\n",
      "          8    1.00000   0.94872   0.97368        78\n",
      "          9    0.97260   0.95946   0.96599        74\n",
      "\n",
      "avg / total    0.98769   0.98748   0.98744       719\n",
      "\n",
      "\n",
      "\n"
     ]
    }
   ],
   "source": [
    "from sklearn.metrics import classification_report\n",
    "from sklearn.model_selection import GridSearchCV\n",
    "\n",
    "scores = ['precision', 'recall']\n",
    "\n",
    "for score in scores:\n",
    "    print(\"# Tuning hyper-parameters for %s\" % score)\n",
    "    print '\\n'\n",
    "\n",
    "    clf = GridSearchCV(KNeighborsClassifier(), param_grid, cv=5,\n",
    "                       scoring='%s_macro' % score)\n",
    "    clf.fit(X_train, y_train)\n",
    "\n",
    "    print(\"Best parameters set found on development set:\")\n",
    "    print '\\n'\n",
    "    print(clf.best_params_)\n",
    "    print '\\n'\n",
    "    print(\"Grid scores on development set:\")\n",
    "    print '\\n'\n",
    "    means = clf.cv_results_['mean_test_score']\n",
    "    stds = clf.cv_results_['std_test_score']\n",
    "    for mean, std, params in zip(means, stds, clf.cv_results_['params']):\n",
    "        print(\"%0.5f (+/-%0.05f) for %r\"\n",
    "              % (mean, std * 2, params))\n",
    "    print '\\n'\n",
    "\n",
    "    print(\"Detailed classification report:\")\n",
    "    print '\\n'\n",
    "    print(\"The model is trained on the full development set.\")\n",
    "    print(\"The scores are computed on the full evaluation set.\")\n",
    "    print '\\n'\n",
    "    y_true, y_pred = y_test, clf.predict(X_test)\n",
    "    print(classification_report(y_true, y_pred, digits=5))\n",
    "    print '\\n'"
   ]
  }
 ],
 "metadata": {
  "kernelspec": {
   "display_name": "Python 2",
   "language": "python",
   "name": "python2"
  },
  "language_info": {
   "codemirror_mode": {
    "name": "ipython",
    "version": 2
   },
   "file_extension": ".py",
   "mimetype": "text/x-python",
   "name": "python",
   "nbconvert_exporter": "python",
   "pygments_lexer": "ipython2",
   "version": "2.7.12"
  }
 },
 "nbformat": 4,
 "nbformat_minor": 2
}
