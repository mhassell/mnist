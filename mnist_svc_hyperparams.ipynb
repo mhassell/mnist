{
 "cells": [
  {
   "cell_type": "code",
   "execution_count": 7,
   "metadata": {
    "collapsed": true
   },
   "outputs": [],
   "source": [
    "# let's get into hyperparamter optimization\n",
    "# following ideas from here: http://scikit-learn.org/stable/modules/grid_search.html"
   ]
  },
  {
   "cell_type": "code",
   "execution_count": 8,
   "metadata": {
    "collapsed": true
   },
   "outputs": [],
   "source": [
    "from sklearn import datasets\n",
    "digits = datasets.load_digits()"
   ]
  },
  {
   "cell_type": "code",
   "execution_count": 9,
   "metadata": {
    "collapsed": true
   },
   "outputs": [],
   "source": [
    "# for this classification, we use a SVM\n",
    "from sklearn import svm"
   ]
  },
  {
   "cell_type": "code",
   "execution_count": 10,
   "metadata": {},
   "outputs": [
    {
     "name": "stdout",
     "output_type": "stream",
     "text": [
      "{'kernel': 'rbf', 'C': 1.0, 'verbose': False, 'probability': False, 'degree': 3, 'shrinking': True, 'max_iter': -1, 'decision_function_shape': None, 'random_state': None, 'tol': 0.001, 'cache_size': 200, 'coef0': 0.0, 'gamma': 'auto', 'class_weight': None}\n"
     ]
    }
   ],
   "source": [
    "# first, get all of the parameters associated to the estimator\n",
    "estimator = svm.SVC()\n",
    "print estimator.get_params()"
   ]
  },
  {
   "cell_type": "code",
   "execution_count": 11,
   "metadata": {
    "collapsed": true
   },
   "outputs": [],
   "source": [
    "# we can use sklearn.model_selection.GridSearchCV to brute force the optimal hyperparameters\n",
    "from sklearn.model_selection import GridSearchCV"
   ]
  },
  {
   "cell_type": "code",
   "execution_count": 12,
   "metadata": {
    "collapsed": true
   },
   "outputs": [],
   "source": [
    "# we explore two grids: one with C \\in \\{1, 10, 100, 1000 \\} and a linear kernel and the other\n",
    "# grid wilkl have an rbf kernel and explores the product \\{ 1, 10, 100, 1000 \\} \\times \\{ 1e-3, 1e-4 \\}\n",
    "\n",
    "param_grid = [\n",
    "  {'C': [1, 10, 100, 1000], 'kernel': ['linear']},\n",
    "  {'C': [1, 10, 100, 1000], 'gamma': [0.001, 0.0001], 'kernel': ['rbf']},\n",
    " ]"
   ]
  },
  {
   "cell_type": "code",
   "execution_count": 13,
   "metadata": {
    "collapsed": true
   },
   "outputs": [],
   "source": [
    "# we'll use this module to split the data into folds for test and train\n",
    "from sklearn.model_selection import train_test_split\n",
    "\n",
    "# and this one to view reports from the cv parameter estimations\n",
    "from sklearn.metrics import classification_report"
   ]
  },
  {
   "cell_type": "code",
   "execution_count": 14,
   "metadata": {
    "collapsed": true
   },
   "outputs": [],
   "source": [
    "n_samples = len(digits.images)\n",
    "X = digits.images.reshape((n_samples, -1))\n",
    "y = digits.target"
   ]
  },
  {
   "cell_type": "code",
   "execution_count": 15,
   "metadata": {
    "collapsed": true
   },
   "outputs": [],
   "source": [
    "X_train, X_test, y_train, y_test = train_test_split(\n",
    "    X, y, test_size=0.5, random_state=0)"
   ]
  },
  {
   "cell_type": "code",
   "execution_count": 16,
   "metadata": {
    "collapsed": true
   },
   "outputs": [],
   "source": [
    "scores = ['precision', 'recall']"
   ]
  },
  {
   "cell_type": "code",
   "execution_count": 19,
   "metadata": {
    "scrolled": true
   },
   "outputs": [
    {
     "name": "stdout",
     "output_type": "stream",
     "text": [
      "# Tuning hyper-parameters for precision\n",
      "\n",
      "\n",
      "Best parameters set found on development set:\n",
      "\n",
      "\n",
      "{'kernel': 'rbf', 'C': 10, 'gamma': 0.001}\n",
      "\n",
      "\n",
      "Grid scores on development set:\n",
      "\n",
      "\n",
      "0.97460 (+/-0.01365) for {'kernel': 'linear', 'C': 1}\n",
      "0.97460 (+/-0.01365) for {'kernel': 'linear', 'C': 10}\n",
      "0.97460 (+/-0.01365) for {'kernel': 'linear', 'C': 100}\n",
      "0.97460 (+/-0.01365) for {'kernel': 'linear', 'C': 1000}\n",
      "0.98636 (+/-0.01648) for {'kernel': 'rbf', 'C': 1, 'gamma': 0.001}\n",
      "0.95921 (+/-0.02945) for {'kernel': 'rbf', 'C': 1, 'gamma': 0.0001}\n",
      "0.98808 (+/-0.01660) for {'kernel': 'rbf', 'C': 10, 'gamma': 0.001}\n",
      "0.98239 (+/-0.02584) for {'kernel': 'rbf', 'C': 10, 'gamma': 0.0001}\n",
      "0.98808 (+/-0.01660) for {'kernel': 'rbf', 'C': 100, 'gamma': 0.001}\n",
      "0.98235 (+/-0.02524) for {'kernel': 'rbf', 'C': 100, 'gamma': 0.0001}\n",
      "0.98808 (+/-0.01660) for {'kernel': 'rbf', 'C': 1000, 'gamma': 0.001}\n",
      "0.98235 (+/-0.02524) for {'kernel': 'rbf', 'C': 1000, 'gamma': 0.0001}\n",
      "\n",
      "\n",
      "Detailed classification report:\n",
      "\n",
      "\n",
      "The model is trained on the full development set.\n",
      "The scores are computed on the full evaluation set.\n",
      "\n",
      "\n",
      "             precision    recall  f1-score   support\n",
      "\n",
      "          0       1.00      1.00      1.00        89\n",
      "          1       0.97      1.00      0.98        90\n",
      "          2       0.99      0.98      0.98        92\n",
      "          3       1.00      0.99      0.99        93\n",
      "          4       1.00      1.00      1.00        76\n",
      "          5       0.99      0.98      0.99       108\n",
      "          6       0.99      1.00      0.99        89\n",
      "          7       0.99      1.00      0.99        78\n",
      "          8       1.00      0.98      0.99        92\n",
      "          9       0.99      0.99      0.99        92\n",
      "\n",
      "avg / total       0.99      0.99      0.99       899\n",
      "\n",
      "\n",
      "\n",
      "# Tuning hyper-parameters for recall\n",
      "\n",
      "\n",
      "Best parameters set found on development set:\n",
      "\n",
      "\n",
      "{'kernel': 'rbf', 'C': 10, 'gamma': 0.001}\n",
      "\n",
      "\n",
      "Grid scores on development set:\n",
      "\n",
      "\n",
      "0.97236 (+/-0.01216) for {'kernel': 'linear', 'C': 1}\n",
      "0.97236 (+/-0.01216) for {'kernel': 'linear', 'C': 10}\n",
      "0.97236 (+/-0.01216) for {'kernel': 'linear', 'C': 100}\n",
      "0.97236 (+/-0.01216) for {'kernel': 'linear', 'C': 1000}\n",
      "0.98564 (+/-0.01947) for {'kernel': 'rbf', 'C': 1, 'gamma': 0.001}\n",
      "0.95667 (+/-0.02930) for {'kernel': 'rbf', 'C': 1, 'gamma': 0.0001}\n",
      "0.98667 (+/-0.01916) for {'kernel': 'rbf', 'C': 10, 'gamma': 0.001}\n",
      "0.98070 (+/-0.02823) for {'kernel': 'rbf', 'C': 10, 'gamma': 0.0001}\n",
      "0.98667 (+/-0.01916) for {'kernel': 'rbf', 'C': 100, 'gamma': 0.001}\n",
      "0.98089 (+/-0.02589) for {'kernel': 'rbf', 'C': 100, 'gamma': 0.0001}\n",
      "0.98667 (+/-0.01916) for {'kernel': 'rbf', 'C': 1000, 'gamma': 0.001}\n",
      "0.98089 (+/-0.02589) for {'kernel': 'rbf', 'C': 1000, 'gamma': 0.0001}\n",
      "\n",
      "\n",
      "Detailed classification report:\n",
      "\n",
      "\n",
      "The model is trained on the full development set.\n",
      "The scores are computed on the full evaluation set.\n",
      "\n",
      "\n",
      "             precision    recall  f1-score   support\n",
      "\n",
      "          0       1.00      1.00      1.00        89\n",
      "          1       0.97      1.00      0.98        90\n",
      "          2       0.99      0.98      0.98        92\n",
      "          3       1.00      0.99      0.99        93\n",
      "          4       1.00      1.00      1.00        76\n",
      "          5       0.99      0.98      0.99       108\n",
      "          6       0.99      1.00      0.99        89\n",
      "          7       0.99      1.00      0.99        78\n",
      "          8       1.00      0.98      0.99        92\n",
      "          9       0.99      0.99      0.99        92\n",
      "\n",
      "avg / total       0.99      0.99      0.99       899\n",
      "\n",
      "\n",
      "\n"
     ]
    }
   ],
   "source": [
    "for score in scores:\n",
    "    print(\"# Tuning hyper-parameters for %s\" % score)\n",
    "    print '\\n'\n",
    "\n",
    "    clf = GridSearchCV(svm.SVC(C=1), param_grid, cv=5,\n",
    "                       scoring='%s_macro' % score)\n",
    "    clf.fit(X_train, y_train)\n",
    "\n",
    "    print(\"Best parameters set found on development set:\")\n",
    "    print '\\n'\n",
    "    print(clf.best_params_)\n",
    "    print '\\n'\n",
    "    print(\"Grid scores on development set:\")\n",
    "    print '\\n'\n",
    "    means = clf.cv_results_['mean_test_score']\n",
    "    stds = clf.cv_results_['std_test_score']\n",
    "    for mean, std, params in zip(means, stds, clf.cv_results_['params']):\n",
    "        print(\"%0.5f (+/-%0.05f) for %r\"\n",
    "              % (mean, std * 2, params))\n",
    "    print '\\n'\n",
    "\n",
    "    print(\"Detailed classification report:\")\n",
    "    print '\\n'\n",
    "    print(\"The model is trained on the full development set.\")\n",
    "    print(\"The scores are computed on the full evaluation set.\")\n",
    "    print '\\n'\n",
    "    y_true, y_pred = y_test, clf.predict(X_test)\n",
    "    print(classification_report(y_true, y_pred))\n",
    "    print '\\n'"
   ]
  },
  {
   "cell_type": "code",
   "execution_count": null,
   "metadata": {
    "collapsed": true
   },
   "outputs": [],
   "source": []
  }
 ],
 "metadata": {
  "kernelspec": {
   "display_name": "Python 2",
   "language": "python",
   "name": "python2"
  },
  "language_info": {
   "codemirror_mode": {
    "name": "ipython",
    "version": 2
   },
   "file_extension": ".py",
   "mimetype": "text/x-python",
   "name": "python",
   "nbconvert_exporter": "python",
   "pygments_lexer": "ipython2",
   "version": "2.7.12"
  }
 },
 "nbformat": 4,
 "nbformat_minor": 2
}
