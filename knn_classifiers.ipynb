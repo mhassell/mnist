{
 "cells": [
  {
   "cell_type": "markdown",
   "metadata": {
    "deletable": true,
    "editable": true
   },
   "source": [
    "This is trying out KNN classifiers for the MNIST data set"
   ]
  },
  {
   "cell_type": "code",
   "execution_count": 21,
   "metadata": {
    "collapsed": true,
    "deletable": true,
    "editable": true
   },
   "outputs": [],
   "source": [
    "from sklearn.model_selection import train_test_split\n",
    "from sklearn.neighbors import KNeighborsClassifier\n",
    "from sklearn import datasets\n",
    "from sklearn.metrics import classification_report, confusion_matrix"
   ]
  },
  {
   "cell_type": "code",
   "execution_count": 14,
   "metadata": {
    "collapsed": false,
    "deletable": true,
    "editable": true
   },
   "outputs": [],
   "source": [
    "digits = datasets.load_digits()\n",
    "\n",
    "n_samples = len(digits.images)\n",
    "data = digits.images.reshape((n_samples, -1))\n",
    "\n",
    "X_train, X_test, y_train, y_test = train_test_split(digits.images, digits.target, \\\n",
    "                                                    test_size=.4, random_state=0)"
   ]
  },
  {
   "cell_type": "code",
   "execution_count": 17,
   "metadata": {
    "collapsed": false,
    "deletable": true,
    "editable": true
   },
   "outputs": [],
   "source": [
    "# defaults to 5 neighbors for now\n",
    "clf = KNeighborsClassifier()\n",
    "X_train = X_train.reshape(X_train.shape[0],64)\n",
    "X_test = X_test.reshape(X_test.shape[0],64)"
   ]
  },
  {
   "cell_type": "code",
   "execution_count": 18,
   "metadata": {
    "collapsed": false
   },
   "outputs": [
    {
     "data": {
      "text/plain": [
       "KNeighborsClassifier(algorithm='auto', leaf_size=30, metric='minkowski',\n",
       "           metric_params=None, n_jobs=1, n_neighbors=5, p=2,\n",
       "           weights='uniform')"
      ]
     },
     "execution_count": 18,
     "metadata": {},
     "output_type": "execute_result"
    }
   ],
   "source": [
    "clf.fit(X_train, y_train)"
   ]
  },
  {
   "cell_type": "code",
   "execution_count": 25,
   "metadata": {
    "collapsed": false
   },
   "outputs": [
    {
     "name": "stdout",
     "output_type": "stream",
     "text": [
      "Classification report for classifier KNeighborsClassifier(algorithm='auto', leaf_size=30, metric='minkowski',\n",
      "           metric_params=None, n_jobs=1, n_neighbors=5, p=2,\n",
      "           weights='uniform'):\n",
      "             precision    recall  f1-score   support\n",
      "\n",
      "          0       1.00      1.00      1.00        60\n",
      "          1       0.94      1.00      0.97        73\n",
      "          2       0.99      0.99      0.99        71\n",
      "          3       0.96      0.99      0.97        70\n",
      "          4       1.00      0.98      0.99        63\n",
      "          5       0.99      0.98      0.98        89\n",
      "          6       0.99      1.00      0.99        76\n",
      "          7       0.97      1.00      0.98        65\n",
      "          8       1.00      0.90      0.95        78\n",
      "          9       0.97      0.97      0.97        74\n",
      "\n",
      "avg / total       0.98      0.98      0.98       719\n",
      "\n",
      "\n",
      "Confusion matrix:\n",
      "[[60  0  0  0  0  0  0  0  0  0]\n",
      " [ 0 73  0  0  0  0  0  0  0  0]\n",
      " [ 0  0 70  0  0  0  0  1  0  0]\n",
      " [ 0  0  1 69  0  0  0  0  0  0]\n",
      " [ 0  0  0  0 62  0  0  1  0  0]\n",
      " [ 0  0  0  0  0 87  1  0  0  1]\n",
      " [ 0  0  0  0  0  0 76  0  0  0]\n",
      " [ 0  0  0  0  0  0  0 65  0  0]\n",
      " [ 0  5  0  2  0  0  0  0 70  1]\n",
      " [ 0  0  0  1  0  1  0  0  0 72]]\n"
     ]
    }
   ],
   "source": [
    "# we get about 98% with just vanilla 5-NN classification\n",
    "\n",
    "expected = y_test\n",
    "predicted = clf.predict(X_test)\n",
    "print(\"Classification report for classifier %s:\\n%s\\n\"\n",
    "      % (clf, classification_report(expected, predicted)))\n",
    "print(\"Confusion matrix:\\n%s\" % confusion_matrix(expected, predicted))"
   ]
  },
  {
   "cell_type": "code",
   "execution_count": null,
   "metadata": {
    "collapsed": true
   },
   "outputs": [],
   "source": [
    "# now lets try some hyperparameter tuning\n"
   ]
  }
 ],
 "metadata": {
  "kernelspec": {
   "display_name": "Python 2",
   "language": "python",
   "name": "python2"
  },
  "language_info": {
   "codemirror_mode": {
    "name": "ipython",
    "version": 2
   },
   "file_extension": ".py",
   "mimetype": "text/x-python",
   "name": "python",
   "nbconvert_exporter": "python",
   "pygments_lexer": "ipython2",
   "version": "2.7.12"
  }
 },
 "nbformat": 4,
 "nbformat_minor": 2
}
